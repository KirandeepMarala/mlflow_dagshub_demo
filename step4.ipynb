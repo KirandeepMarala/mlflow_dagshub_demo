{
 "cells": [
  {
   "cell_type": "markdown",
   "metadata": {
    "id": "O92H_vucLBDO"
   },
   "source": [
    "**Import Necessary libraries**"
   ]
  },
  {
   "cell_type": "code",
   "execution_count": 1,
   "metadata": {
    "id": "z5WUsO4IYNWk"
   },
   "outputs": [],
   "source": [
    "import pandas as pd\n",
    "import numpy as np\n",
    "from matplotlib import pyplot as plt\n",
    "import seaborn as sns\n",
    "from sklearn.model_selection import train_test_split\n",
    "from sklearn.preprocessing import LabelEncoder, StandardScaler, OneHotEncoder\n",
    "from sklearn.compose import ColumnTransformer\n",
    "from sklearn.pipeline import Pipeline\n",
    "from sklearn.ensemble import RandomForestClassifier\n",
    "from sklearn.metrics import classification_report, accuracy_score\n",
    "from sklearn.preprocessing import StandardScaler\n",
    "\n",
    "pd.set_option('display.float_format', lambda x: '{:.2f}'.format(x))\n",
    "np.set_printoptions(suppress=True)\n",
    "pd.set_option(\"display.max_columns\",None)\n",
    "\n",
    "import warnings\n",
    "warnings.filterwarnings(\"ignore\")"
   ]
  },
  {
   "cell_type": "markdown",
   "metadata": {
    "id": "YVdrVtPuLBDW"
   },
   "source": [
    "**Read the dataframe**"
   ]
  },
  {
   "cell_type": "code",
   "execution_count": 2,
   "metadata": {
    "colab": {
     "base_uri": "https://localhost:8080/"
    },
    "id": "eYhtHRkDZzJ7",
    "outputId": "7cb6e48e-4f6d-45bb-e2f1-70abdc66cd4c"
   },
   "outputs": [
    {
     "data": {
      "text/plain": [
       "(30010, 17)"
      ]
     },
     "execution_count": 2,
     "metadata": {},
     "output_type": "execute_result"
    }
   ],
   "source": [
    "df = pd.read_csv(\"survey_results.csv\")\n",
    "df.shape"
   ]
  },
  {
   "cell_type": "code",
   "execution_count": 3,
   "metadata": {
    "colab": {
     "base_uri": "https://localhost:8080/",
     "height": 267
    },
    "id": "nzJi89-jaIxg",
    "outputId": "6ef6be54-8fd3-4f84-9c04-01749347d60c",
    "scrolled": true
   },
   "outputs": [
    {
     "data": {
      "text/html": [
       "<div>\n",
       "<style scoped>\n",
       "    .dataframe tbody tr th:only-of-type {\n",
       "        vertical-align: middle;\n",
       "    }\n",
       "\n",
       "    .dataframe tbody tr th {\n",
       "        vertical-align: top;\n",
       "    }\n",
       "\n",
       "    .dataframe thead th {\n",
       "        text-align: right;\n",
       "    }\n",
       "</style>\n",
       "<table border=\"1\" class=\"dataframe\">\n",
       "  <thead>\n",
       "    <tr style=\"text-align: right;\">\n",
       "      <th></th>\n",
       "      <th>respondent_id</th>\n",
       "      <th>age</th>\n",
       "      <th>gender</th>\n",
       "      <th>zone</th>\n",
       "      <th>occupation</th>\n",
       "      <th>income_levels</th>\n",
       "      <th>consume_frequency(weekly)</th>\n",
       "      <th>current_brand</th>\n",
       "      <th>preferable_consumption_size</th>\n",
       "      <th>awareness_of_other_brands</th>\n",
       "      <th>reasons_for_choosing_brands</th>\n",
       "      <th>flavor_preference</th>\n",
       "      <th>purchase_channel</th>\n",
       "      <th>packaging_preference</th>\n",
       "      <th>health_concerns</th>\n",
       "      <th>typical_consumption_situations</th>\n",
       "      <th>price_range</th>\n",
       "    </tr>\n",
       "  </thead>\n",
       "  <tbody>\n",
       "    <tr>\n",
       "      <th>0</th>\n",
       "      <td>R00001</td>\n",
       "      <td>30</td>\n",
       "      <td>M</td>\n",
       "      <td>Urban</td>\n",
       "      <td>Working Professional</td>\n",
       "      <td>&lt;10L</td>\n",
       "      <td>3-4 times</td>\n",
       "      <td>Newcomer</td>\n",
       "      <td>Medium (500 ml)</td>\n",
       "      <td>0 to 1</td>\n",
       "      <td>Price</td>\n",
       "      <td>Traditional</td>\n",
       "      <td>Online</td>\n",
       "      <td>Simple</td>\n",
       "      <td>Medium (Moderately health-conscious)</td>\n",
       "      <td>Active (eg. Sports, gym)</td>\n",
       "      <td>100-150</td>\n",
       "    </tr>\n",
       "    <tr>\n",
       "      <th>1</th>\n",
       "      <td>R00002</td>\n",
       "      <td>46</td>\n",
       "      <td>F</td>\n",
       "      <td>Metro</td>\n",
       "      <td>Working Professional</td>\n",
       "      <td>&gt; 35L</td>\n",
       "      <td>5-7 times</td>\n",
       "      <td>Established</td>\n",
       "      <td>Medium (500 ml)</td>\n",
       "      <td>2 to 4</td>\n",
       "      <td>Quality</td>\n",
       "      <td>Exotic</td>\n",
       "      <td>Retail Store</td>\n",
       "      <td>Premium</td>\n",
       "      <td>Medium (Moderately health-conscious)</td>\n",
       "      <td>Social (eg. Parties)</td>\n",
       "      <td>200-250</td>\n",
       "    </tr>\n",
       "    <tr>\n",
       "      <th>2</th>\n",
       "      <td>R00003</td>\n",
       "      <td>41</td>\n",
       "      <td>F</td>\n",
       "      <td>Rural</td>\n",
       "      <td>Working Professional</td>\n",
       "      <td>&gt; 35L</td>\n",
       "      <td>3-4 times</td>\n",
       "      <td>Newcomer</td>\n",
       "      <td>Medium (500 ml)</td>\n",
       "      <td>2 to 4</td>\n",
       "      <td>Availability</td>\n",
       "      <td>Traditional</td>\n",
       "      <td>Retail Store</td>\n",
       "      <td>Premium</td>\n",
       "      <td>Medium (Moderately health-conscious)</td>\n",
       "      <td>Active (eg. Sports, gym)</td>\n",
       "      <td>200-250</td>\n",
       "    </tr>\n",
       "  </tbody>\n",
       "</table>\n",
       "</div>"
      ],
      "text/plain": [
       "  respondent_id  age gender   zone            occupation income_levels  \\\n",
       "0        R00001   30      M  Urban  Working Professional          <10L   \n",
       "1        R00002   46      F  Metro  Working Professional         > 35L   \n",
       "2        R00003   41      F  Rural  Working Professional         > 35L   \n",
       "\n",
       "  consume_frequency(weekly) current_brand preferable_consumption_size  \\\n",
       "0                 3-4 times      Newcomer             Medium (500 ml)   \n",
       "1                 5-7 times   Established             Medium (500 ml)   \n",
       "2                 3-4 times      Newcomer             Medium (500 ml)   \n",
       "\n",
       "  awareness_of_other_brands reasons_for_choosing_brands flavor_preference  \\\n",
       "0                    0 to 1                       Price       Traditional   \n",
       "1                    2 to 4                     Quality            Exotic   \n",
       "2                    2 to 4                Availability       Traditional   \n",
       "\n",
       "  purchase_channel packaging_preference                       health_concerns  \\\n",
       "0           Online               Simple  Medium (Moderately health-conscious)   \n",
       "1     Retail Store              Premium  Medium (Moderately health-conscious)   \n",
       "2     Retail Store              Premium  Medium (Moderately health-conscious)   \n",
       "\n",
       "  typical_consumption_situations price_range  \n",
       "0       Active (eg. Sports, gym)     100-150  \n",
       "1           Social (eg. Parties)     200-250  \n",
       "2       Active (eg. Sports, gym)     200-250  "
      ]
     },
     "execution_count": 3,
     "metadata": {},
     "output_type": "execute_result"
    }
   ],
   "source": [
    "df.head(3)"
   ]
  },
  {
   "cell_type": "code",
   "execution_count": null,
   "metadata": {
    "id": "67q7ewMPLBDY"
   },
   "outputs": [],
   "source": []
  },
  {
   "cell_type": "markdown",
   "metadata": {
    "id": "JpgKIM-fLBDY"
   },
   "source": [
    "### Data Cleaning"
   ]
  },
  {
   "cell_type": "markdown",
   "metadata": {
    "id": "-54P_6leLBDY"
   },
   "source": [
    "**1. Remove duplicates**"
   ]
  },
  {
   "cell_type": "code",
   "execution_count": 4,
   "metadata": {
    "colab": {
     "base_uri": "https://localhost:8080/",
     "height": 643
    },
    "id": "j2lfSis0LBDZ",
    "outputId": "b53ce80c-1ba8-4da6-c338-b1f47305d251"
   },
   "outputs": [
    {
     "name": "stdout",
     "output_type": "stream",
     "text": [
      "Number of Duplicate Rows: 10\n"
     ]
    },
    {
     "data": {
      "text/html": [
       "<div>\n",
       "<style scoped>\n",
       "    .dataframe tbody tr th:only-of-type {\n",
       "        vertical-align: middle;\n",
       "    }\n",
       "\n",
       "    .dataframe tbody tr th {\n",
       "        vertical-align: top;\n",
       "    }\n",
       "\n",
       "    .dataframe thead th {\n",
       "        text-align: right;\n",
       "    }\n",
       "</style>\n",
       "<table border=\"1\" class=\"dataframe\">\n",
       "  <thead>\n",
       "    <tr style=\"text-align: right;\">\n",
       "      <th></th>\n",
       "      <th>respondent_id</th>\n",
       "      <th>age</th>\n",
       "      <th>gender</th>\n",
       "      <th>zone</th>\n",
       "      <th>occupation</th>\n",
       "      <th>income_levels</th>\n",
       "      <th>consume_frequency(weekly)</th>\n",
       "      <th>current_brand</th>\n",
       "      <th>preferable_consumption_size</th>\n",
       "      <th>awareness_of_other_brands</th>\n",
       "      <th>reasons_for_choosing_brands</th>\n",
       "      <th>flavor_preference</th>\n",
       "      <th>purchase_channel</th>\n",
       "      <th>packaging_preference</th>\n",
       "      <th>health_concerns</th>\n",
       "      <th>typical_consumption_situations</th>\n",
       "      <th>price_range</th>\n",
       "    </tr>\n",
       "  </thead>\n",
       "  <tbody>\n",
       "    <tr>\n",
       "      <th>2309</th>\n",
       "      <td>R02309</td>\n",
       "      <td>27</td>\n",
       "      <td>M</td>\n",
       "      <td>Urban</td>\n",
       "      <td>Working Professional</td>\n",
       "      <td>16L - 25L</td>\n",
       "      <td>3-4 times</td>\n",
       "      <td>Newcomer</td>\n",
       "      <td>Small (250 ml)</td>\n",
       "      <td>2 to 4</td>\n",
       "      <td>Brand Reputation</td>\n",
       "      <td>Traditional</td>\n",
       "      <td>Online</td>\n",
       "      <td>Simple</td>\n",
       "      <td>Medium (Moderately health-conscious)</td>\n",
       "      <td>Social (eg. Parties)</td>\n",
       "      <td>150-200</td>\n",
       "    </tr>\n",
       "    <tr>\n",
       "      <th>2666</th>\n",
       "      <td>R02665</td>\n",
       "      <td>61</td>\n",
       "      <td>M</td>\n",
       "      <td>Metro</td>\n",
       "      <td>Entrepreneur</td>\n",
       "      <td>16L - 25L</td>\n",
       "      <td>3-4 times</td>\n",
       "      <td>Established</td>\n",
       "      <td>Medium (500 ml)</td>\n",
       "      <td>above 4</td>\n",
       "      <td>Brand Reputation</td>\n",
       "      <td>Exotic</td>\n",
       "      <td>Retail Store</td>\n",
       "      <td>Simple</td>\n",
       "      <td>High (Very health-conscious)</td>\n",
       "      <td>Active (eg. Sports, gym)</td>\n",
       "      <td>200-250</td>\n",
       "    </tr>\n",
       "    <tr>\n",
       "      <th>5151</th>\n",
       "      <td>R05149</td>\n",
       "      <td>21</td>\n",
       "      <td>M</td>\n",
       "      <td>Semi-Urban</td>\n",
       "      <td>Student</td>\n",
       "      <td>NaN</td>\n",
       "      <td>3-4 times</td>\n",
       "      <td>Established</td>\n",
       "      <td>Small (250 ml)</td>\n",
       "      <td>2 to 4</td>\n",
       "      <td>Availability</td>\n",
       "      <td>Traditional</td>\n",
       "      <td>Retail Store</td>\n",
       "      <td>Simple</td>\n",
       "      <td>Low (Not very concerned)</td>\n",
       "      <td>Active (eg. Sports, gym)</td>\n",
       "      <td>50-100</td>\n",
       "    </tr>\n",
       "    <tr>\n",
       "      <th>7794</th>\n",
       "      <td>R07791</td>\n",
       "      <td>25</td>\n",
       "      <td>M</td>\n",
       "      <td>Metro</td>\n",
       "      <td>Working Professional</td>\n",
       "      <td>&lt;10L</td>\n",
       "      <td>3-4 times</td>\n",
       "      <td>Newcomer</td>\n",
       "      <td>Medium (500 ml)</td>\n",
       "      <td>2 to 4</td>\n",
       "      <td>Availability</td>\n",
       "      <td>Exotic</td>\n",
       "      <td>Online</td>\n",
       "      <td>Simple</td>\n",
       "      <td>Medium (Moderately health-conscious)</td>\n",
       "      <td>Casual (eg. At home)</td>\n",
       "      <td>100-150</td>\n",
       "    </tr>\n",
       "    <tr>\n",
       "      <th>8516</th>\n",
       "      <td>R08512</td>\n",
       "      <td>20</td>\n",
       "      <td>F</td>\n",
       "      <td>Metro</td>\n",
       "      <td>Student</td>\n",
       "      <td>NaN</td>\n",
       "      <td>5-7 times</td>\n",
       "      <td>Established</td>\n",
       "      <td>Large (1 L)</td>\n",
       "      <td>0 to 1</td>\n",
       "      <td>Price</td>\n",
       "      <td>Exotic</td>\n",
       "      <td>Online</td>\n",
       "      <td>Simple</td>\n",
       "      <td>Medium (Moderately health-conscious)</td>\n",
       "      <td>Casual (eg. At home)</td>\n",
       "      <td>100-150</td>\n",
       "    </tr>\n",
       "    <tr>\n",
       "      <th>11317</th>\n",
       "      <td>R11312</td>\n",
       "      <td>18</td>\n",
       "      <td>F</td>\n",
       "      <td>Urban</td>\n",
       "      <td>Student</td>\n",
       "      <td>NaN</td>\n",
       "      <td>0-2 times</td>\n",
       "      <td>Newcomer</td>\n",
       "      <td>Medium (500 ml)</td>\n",
       "      <td>2 to 4</td>\n",
       "      <td>Availability</td>\n",
       "      <td>Exotic</td>\n",
       "      <td>Online</td>\n",
       "      <td>Premium</td>\n",
       "      <td>Medium (Moderately health-conscious)</td>\n",
       "      <td>Social (eg. Parties)</td>\n",
       "      <td>100-150</td>\n",
       "    </tr>\n",
       "    <tr>\n",
       "      <th>19050</th>\n",
       "      <td>R19044</td>\n",
       "      <td>57</td>\n",
       "      <td>M</td>\n",
       "      <td>Semi-Urban</td>\n",
       "      <td>Retired</td>\n",
       "      <td>&lt;10L</td>\n",
       "      <td>3-4 times</td>\n",
       "      <td>Newcomer</td>\n",
       "      <td>Large (1 L)</td>\n",
       "      <td>2 to 4</td>\n",
       "      <td>Price</td>\n",
       "      <td>Traditional</td>\n",
       "      <td>Retail Store</td>\n",
       "      <td>Premium</td>\n",
       "      <td>High (Very health-conscious)</td>\n",
       "      <td>Social (eg. Parties)</td>\n",
       "      <td>150-200</td>\n",
       "    </tr>\n",
       "    <tr>\n",
       "      <th>22412</th>\n",
       "      <td>R22405</td>\n",
       "      <td>26</td>\n",
       "      <td>M</td>\n",
       "      <td>Metro</td>\n",
       "      <td>Working Professional</td>\n",
       "      <td>16L - 25L</td>\n",
       "      <td>0-2 times</td>\n",
       "      <td>Newcomer</td>\n",
       "      <td>Small (250 ml)</td>\n",
       "      <td>0 to 1</td>\n",
       "      <td>Price</td>\n",
       "      <td>Exotic</td>\n",
       "      <td>Online</td>\n",
       "      <td>Premium</td>\n",
       "      <td>Low (Not very concerned)</td>\n",
       "      <td>Active (eg. Sports, gym)</td>\n",
       "      <td>150-200</td>\n",
       "    </tr>\n",
       "    <tr>\n",
       "      <th>23406</th>\n",
       "      <td>R23398</td>\n",
       "      <td>27</td>\n",
       "      <td>M</td>\n",
       "      <td>Urban</td>\n",
       "      <td>Working Professional</td>\n",
       "      <td>10L - 15L</td>\n",
       "      <td>5-7 times</td>\n",
       "      <td>Newcomer</td>\n",
       "      <td>Large (1 L)</td>\n",
       "      <td>above 4</td>\n",
       "      <td>Availability</td>\n",
       "      <td>Traditional</td>\n",
       "      <td>Online</td>\n",
       "      <td>Premium</td>\n",
       "      <td>High (Very health-conscious)</td>\n",
       "      <td>Casual (eg. At home)</td>\n",
       "      <td>200-250</td>\n",
       "    </tr>\n",
       "    <tr>\n",
       "      <th>25068</th>\n",
       "      <td>R25059</td>\n",
       "      <td>34</td>\n",
       "      <td>F</td>\n",
       "      <td>Urban</td>\n",
       "      <td>Working Professional</td>\n",
       "      <td>16L - 25L</td>\n",
       "      <td>0-2 times</td>\n",
       "      <td>Newcomer</td>\n",
       "      <td>Small (250 ml)</td>\n",
       "      <td>2 to 4</td>\n",
       "      <td>Brand Reputation</td>\n",
       "      <td>Exotic</td>\n",
       "      <td>Online</td>\n",
       "      <td>Eco-Friendly</td>\n",
       "      <td>High (Very health-conscious)</td>\n",
       "      <td>Active (eg. Sports, gym)</td>\n",
       "      <td>150-200</td>\n",
       "    </tr>\n",
       "  </tbody>\n",
       "</table>\n",
       "</div>"
      ],
      "text/plain": [
       "      respondent_id  age gender        zone            occupation  \\\n",
       "2309         R02309   27      M       Urban  Working Professional   \n",
       "2666         R02665   61      M       Metro          Entrepreneur   \n",
       "5151         R05149   21      M  Semi-Urban               Student   \n",
       "7794         R07791   25      M       Metro  Working Professional   \n",
       "8516         R08512   20      F       Metro               Student   \n",
       "11317        R11312   18      F       Urban               Student   \n",
       "19050        R19044   57      M  Semi-Urban               Retired   \n",
       "22412        R22405   26      M       Metro  Working Professional   \n",
       "23406        R23398   27      M       Urban  Working Professional   \n",
       "25068        R25059   34      F       Urban  Working Professional   \n",
       "\n",
       "      income_levels consume_frequency(weekly) current_brand  \\\n",
       "2309      16L - 25L                 3-4 times      Newcomer   \n",
       "2666      16L - 25L                 3-4 times   Established   \n",
       "5151            NaN                 3-4 times   Established   \n",
       "7794           <10L                 3-4 times      Newcomer   \n",
       "8516            NaN                 5-7 times   Established   \n",
       "11317           NaN                 0-2 times      Newcomer   \n",
       "19050          <10L                 3-4 times      Newcomer   \n",
       "22412     16L - 25L                 0-2 times      Newcomer   \n",
       "23406     10L - 15L                 5-7 times      Newcomer   \n",
       "25068     16L - 25L                 0-2 times      Newcomer   \n",
       "\n",
       "      preferable_consumption_size awareness_of_other_brands  \\\n",
       "2309               Small (250 ml)                    2 to 4   \n",
       "2666              Medium (500 ml)                   above 4   \n",
       "5151               Small (250 ml)                    2 to 4   \n",
       "7794              Medium (500 ml)                    2 to 4   \n",
       "8516                  Large (1 L)                    0 to 1   \n",
       "11317             Medium (500 ml)                    2 to 4   \n",
       "19050                 Large (1 L)                    2 to 4   \n",
       "22412              Small (250 ml)                    0 to 1   \n",
       "23406                 Large (1 L)                   above 4   \n",
       "25068              Small (250 ml)                    2 to 4   \n",
       "\n",
       "      reasons_for_choosing_brands flavor_preference purchase_channel  \\\n",
       "2309             Brand Reputation       Traditional           Online   \n",
       "2666             Brand Reputation            Exotic     Retail Store   \n",
       "5151                 Availability       Traditional     Retail Store   \n",
       "7794                 Availability            Exotic           Online   \n",
       "8516                        Price            Exotic           Online   \n",
       "11317                Availability            Exotic           Online   \n",
       "19050                       Price       Traditional     Retail Store   \n",
       "22412                       Price            Exotic           Online   \n",
       "23406                Availability       Traditional           Online   \n",
       "25068            Brand Reputation            Exotic           Online   \n",
       "\n",
       "      packaging_preference                       health_concerns  \\\n",
       "2309                Simple  Medium (Moderately health-conscious)   \n",
       "2666                Simple          High (Very health-conscious)   \n",
       "5151                Simple              Low (Not very concerned)   \n",
       "7794                Simple  Medium (Moderately health-conscious)   \n",
       "8516                Simple  Medium (Moderately health-conscious)   \n",
       "11317              Premium  Medium (Moderately health-conscious)   \n",
       "19050              Premium          High (Very health-conscious)   \n",
       "22412              Premium              Low (Not very concerned)   \n",
       "23406              Premium          High (Very health-conscious)   \n",
       "25068         Eco-Friendly          High (Very health-conscious)   \n",
       "\n",
       "      typical_consumption_situations price_range  \n",
       "2309            Social (eg. Parties)     150-200  \n",
       "2666        Active (eg. Sports, gym)     200-250  \n",
       "5151        Active (eg. Sports, gym)      50-100  \n",
       "7794            Casual (eg. At home)     100-150  \n",
       "8516            Casual (eg. At home)     100-150  \n",
       "11317           Social (eg. Parties)     100-150  \n",
       "19050           Social (eg. Parties)     150-200  \n",
       "22412       Active (eg. Sports, gym)     150-200  \n",
       "23406           Casual (eg. At home)     200-250  \n",
       "25068       Active (eg. Sports, gym)     150-200  "
      ]
     },
     "execution_count": 4,
     "metadata": {},
     "output_type": "execute_result"
    }
   ],
   "source": [
    "\n",
    "\n",
    "# View all duplicate rows\n",
    "duplicates = df[df.duplicated()]\n",
    "print(\"Number of Duplicate Rows:\", len(duplicates))\n",
    "duplicates"
   ]
  },
  {
   "cell_type": "code",
   "execution_count": 5,
   "metadata": {
    "colab": {
     "base_uri": "https://localhost:8080/"
    },
    "id": "ELPZX2rwLBDZ",
    "outputId": "7de781f5-eb02-4b18-b51e-ce2b0161e3a5"
   },
   "outputs": [
    {
     "name": "stdout",
     "output_type": "stream",
     "text": [
      "Number of rows after removing duplicates:  (30000, 17)\n"
     ]
    }
   ],
   "source": [
    "#Removing the duplicates\n",
    "\n",
    "df = df.drop_duplicates()\n",
    "\n",
    "print(\"Number of rows after removing duplicates: \", df.shape)"
   ]
  },
  {
   "cell_type": "markdown",
   "metadata": {
    "id": "Zv4Y3R2hLBDb"
   },
   "source": [
    "**2: Outliers Removal**"
   ]
  },
  {
   "cell_type": "markdown",
   "metadata": {
    "id": "Esei60LDLBDb"
   },
   "source": [
    "- Abnormal values in age"
   ]
  },
  {
   "cell_type": "code",
   "execution_count": 6,
   "metadata": {
    "colab": {
     "base_uri": "https://localhost:8080/",
     "height": 564
    },
    "id": "1Ax4bAODLBDb",
    "outputId": "76a2b7a4-28b6-412a-8174-195da6282d35"
   },
   "outputs": [
    {
     "data": {
      "image/png": "[encoded data removed]",
      "text/plain": [
       "<Figure size 800x600 with 1 Axes>"
      ]
     },
     "metadata": {},
     "output_type": "display_data"
    }
   ],
   "source": [
    "# Assuming df is your DataFrame and 'Age' is the column of interest\n",
    "plt.figure(figsize=(8, 6))\n",
    "\n",
    "# Plotting the box plot using seaborn\n",
    "sns.boxplot(x=df['age'])\n",
    "\n",
    "# Adding a title\n",
    "plt.title('Box Plot of Age')\n",
    "\n",
    "# Show the plot\n",
    "plt.show()"
   ]
  },
  {
   "cell_type": "markdown",
   "metadata": {
    "id": "FNvavP6gLBDc"
   },
   "source": [
    "- From the above, we can sense, there are many outliers in the above data."
   ]
  },
  {
   "cell_type": "code",
   "execution_count": 7,
   "metadata": {
    "colab": {
     "base_uri": "https://localhost:8080/"
    },
    "id": "f7srX8WMLBDc",
    "outputId": "806dc32a-8cf3-4e70-eb43-8b2dffed6998"
   },
   "outputs": [
    {
     "data": {
      "text/plain": [
       "(29991, 17)"
      ]
     },
     "execution_count": 7,
     "metadata": {},
     "output_type": "execute_result"
    }
   ],
   "source": [
    "df[df['age'] <= 70].shape"
   ]
  },
  {
   "cell_type": "code",
   "execution_count": 8,
   "metadata": {
    "colab": {
     "base_uri": "https://localhost:8080/"
    },
    "id": "73GwuT6HLBDc",
    "outputId": "7cf5355a-1725-47d0-dd24-8bbd5926b468"
   },
   "outputs": [
    {
     "data": {
      "text/plain": [
       "(9, 17)"
      ]
     },
     "execution_count": 8,
     "metadata": {},
     "output_type": "execute_result"
    }
   ],
   "source": [
    "df[df['age'] > 70].shape"
   ]
  },
  {
   "cell_type": "code",
   "execution_count": 9,
   "metadata": {
    "colab": {
     "base_uri": "https://localhost:8080/",
     "height": 542
    },
    "id": "lmc7-d2nLBDd",
    "outputId": "aa998a13-b09c-4e02-9635-8c6ae74b600a"
   },
   "outputs": [
    {
     "data": {
      "text/html": [
       "<div>\n",
       "<style scoped>\n",
       "    .dataframe tbody tr th:only-of-type {\n",
       "        vertical-align: middle;\n",
       "    }\n",
       "\n",
       "    .dataframe tbody tr th {\n",
       "        vertical-align: top;\n",
       "    }\n",
       "\n",
       "    .dataframe thead th {\n",
       "        text-align: right;\n",
       "    }\n",
       "</style>\n",
       "<table border=\"1\" class=\"dataframe\">\n",
       "  <thead>\n",
       "    <tr style=\"text-align: right;\">\n",
       "      <th></th>\n",
       "      <th>respondent_id</th>\n",
       "      <th>age</th>\n",
       "      <th>gender</th>\n",
       "      <th>zone</th>\n",
       "      <th>occupation</th>\n",
       "      <th>income_levels</th>\n",
       "      <th>consume_frequency(weekly)</th>\n",
       "      <th>current_brand</th>\n",
       "      <th>preferable_consumption_size</th>\n",
       "      <th>awareness_of_other_brands</th>\n",
       "      <th>reasons_for_choosing_brands</th>\n",
       "      <th>flavor_preference</th>\n",
       "      <th>purchase_channel</th>\n",
       "      <th>packaging_preference</th>\n",
       "      <th>health_concerns</th>\n",
       "      <th>typical_consumption_situations</th>\n",
       "      <th>price_range</th>\n",
       "    </tr>\n",
       "  </thead>\n",
       "  <tbody>\n",
       "    <tr>\n",
       "      <th>3099</th>\n",
       "      <td>R03098</td>\n",
       "      <td>453</td>\n",
       "      <td>M</td>\n",
       "      <td>Metro</td>\n",
       "      <td>Working Professional</td>\n",
       "      <td>26L - 35L</td>\n",
       "      <td>3-4 times</td>\n",
       "      <td>Established</td>\n",
       "      <td>Medium (500 ml)</td>\n",
       "      <td>2 to 4</td>\n",
       "      <td>Brand Reputation</td>\n",
       "      <td>Traditional</td>\n",
       "      <td>Retail Store</td>\n",
       "      <td>Premium</td>\n",
       "      <td>Medium (Moderately health-conscious)</td>\n",
       "      <td>Social (eg. Parties)</td>\n",
       "      <td>200-250</td>\n",
       "    </tr>\n",
       "    <tr>\n",
       "      <th>6262</th>\n",
       "      <td>R06260</td>\n",
       "      <td>428</td>\n",
       "      <td>M</td>\n",
       "      <td>Urban</td>\n",
       "      <td>Entrepreneur</td>\n",
       "      <td>16L - 25L</td>\n",
       "      <td>5-7 times</td>\n",
       "      <td>Established</td>\n",
       "      <td>Large (1 L)</td>\n",
       "      <td>above 4</td>\n",
       "      <td>Quality</td>\n",
       "      <td>Exotic</td>\n",
       "      <td>Online</td>\n",
       "      <td>Simple</td>\n",
       "      <td>High (Very health-conscious)</td>\n",
       "      <td>Social (eg. Parties)</td>\n",
       "      <td>200-250</td>\n",
       "    </tr>\n",
       "    <tr>\n",
       "      <th>12403</th>\n",
       "      <td>R12398</td>\n",
       "      <td>604</td>\n",
       "      <td>M</td>\n",
       "      <td>Metro</td>\n",
       "      <td>Retired</td>\n",
       "      <td>&lt;10L</td>\n",
       "      <td>0-2 times</td>\n",
       "      <td>Newcomer</td>\n",
       "      <td>Small (250 ml)</td>\n",
       "      <td>2 to 4</td>\n",
       "      <td>Availability</td>\n",
       "      <td>Traditional</td>\n",
       "      <td>Online</td>\n",
       "      <td>Simple</td>\n",
       "      <td>Medium (Moderately health-conscious)</td>\n",
       "      <td>Casual (eg. At home)</td>\n",
       "      <td>100-150</td>\n",
       "    </tr>\n",
       "    <tr>\n",
       "      <th>22549</th>\n",
       "      <td>R22542</td>\n",
       "      <td>457</td>\n",
       "      <td>M</td>\n",
       "      <td>Metro</td>\n",
       "      <td>Working Professional</td>\n",
       "      <td>16L - 25L</td>\n",
       "      <td>3-4 times</td>\n",
       "      <td>Newcomer</td>\n",
       "      <td>Small (250 ml)</td>\n",
       "      <td>2 to 4</td>\n",
       "      <td>Price</td>\n",
       "      <td>Traditional</td>\n",
       "      <td>Online</td>\n",
       "      <td>Premium</td>\n",
       "      <td>High (Very health-conscious)</td>\n",
       "      <td>Casual (eg. At home)</td>\n",
       "      <td>200-250</td>\n",
       "    </tr>\n",
       "    <tr>\n",
       "      <th>22918</th>\n",
       "      <td>R22911</td>\n",
       "      <td>267</td>\n",
       "      <td>F</td>\n",
       "      <td>Metro</td>\n",
       "      <td>Working Professional</td>\n",
       "      <td>16L - 25L</td>\n",
       "      <td>3-4 times</td>\n",
       "      <td>Established</td>\n",
       "      <td>Medium (500 ml)</td>\n",
       "      <td>above 4</td>\n",
       "      <td>Brand Reputation</td>\n",
       "      <td>Exotic</td>\n",
       "      <td>Online</td>\n",
       "      <td>Eco-Friendly</td>\n",
       "      <td>Low (Not very concerned)</td>\n",
       "      <td>Active (eg. Sports, gym)</td>\n",
       "      <td>150-200</td>\n",
       "    </tr>\n",
       "    <tr>\n",
       "      <th>24958</th>\n",
       "      <td>R24950</td>\n",
       "      <td>285</td>\n",
       "      <td>M</td>\n",
       "      <td>Semi-Urban</td>\n",
       "      <td>Working Professional</td>\n",
       "      <td>&gt; 35L</td>\n",
       "      <td>0-2 times</td>\n",
       "      <td>Newcomer</td>\n",
       "      <td>Small (250 ml)</td>\n",
       "      <td>2 to 4</td>\n",
       "      <td>Price</td>\n",
       "      <td>Traditional</td>\n",
       "      <td>Online</td>\n",
       "      <td>Simple</td>\n",
       "      <td>Medium (Moderately health-conscious)</td>\n",
       "      <td>Active (eg. Sports, gym)</td>\n",
       "      <td>150-200</td>\n",
       "    </tr>\n",
       "    <tr>\n",
       "      <th>24960</th>\n",
       "      <td>R24952</td>\n",
       "      <td>192</td>\n",
       "      <td>F</td>\n",
       "      <td>Urban</td>\n",
       "      <td>Student</td>\n",
       "      <td>NaN</td>\n",
       "      <td>3-4 times</td>\n",
       "      <td>Newcomer</td>\n",
       "      <td>Medium (500 ml)</td>\n",
       "      <td>0 to 1</td>\n",
       "      <td>Price</td>\n",
       "      <td>Traditional</td>\n",
       "      <td>Online</td>\n",
       "      <td>Simple</td>\n",
       "      <td>Low (Not very concerned)</td>\n",
       "      <td>Active (eg. Sports, gym)</td>\n",
       "      <td>50-100</td>\n",
       "    </tr>\n",
       "    <tr>\n",
       "      <th>25105</th>\n",
       "      <td>R25096</td>\n",
       "      <td>203</td>\n",
       "      <td>M</td>\n",
       "      <td>Metro</td>\n",
       "      <td>Working Professional</td>\n",
       "      <td>16L - 25L</td>\n",
       "      <td>0-2 times</td>\n",
       "      <td>Established</td>\n",
       "      <td>Small (250 ml)</td>\n",
       "      <td>2 to 4</td>\n",
       "      <td>Brand Reputation</td>\n",
       "      <td>Exotic</td>\n",
       "      <td>Retail Store</td>\n",
       "      <td>Premium</td>\n",
       "      <td>High (Very health-conscious)</td>\n",
       "      <td>Active (eg. Sports, gym)</td>\n",
       "      <td>150-200</td>\n",
       "    </tr>\n",
       "    <tr>\n",
       "      <th>28770</th>\n",
       "      <td>R28761</td>\n",
       "      <td>428</td>\n",
       "      <td>F</td>\n",
       "      <td>Rural</td>\n",
       "      <td>Working Professional</td>\n",
       "      <td>26L - 35L</td>\n",
       "      <td>0-2 times</td>\n",
       "      <td>Established</td>\n",
       "      <td>Small (250 ml)</td>\n",
       "      <td>2 to 4</td>\n",
       "      <td>Brand Reputation</td>\n",
       "      <td>Exotic</td>\n",
       "      <td>Online</td>\n",
       "      <td>Simple</td>\n",
       "      <td>Medium (Moderately health-conscious)</td>\n",
       "      <td>Casual (eg. At home)</td>\n",
       "      <td>150-200</td>\n",
       "    </tr>\n",
       "  </tbody>\n",
       "</table>\n",
       "</div>"
      ],
      "text/plain": [
       "      respondent_id  age gender        zone            occupation  \\\n",
       "3099         R03098  453      M       Metro  Working Professional   \n",
       "6262         R06260  428      M       Urban          Entrepreneur   \n",
       "12403        R12398  604      M       Metro               Retired   \n",
       "22549        R22542  457      M       Metro  Working Professional   \n",
       "22918        R22911  267      F       Metro  Working Professional   \n",
       "24958        R24950  285      M  Semi-Urban  Working Professional   \n",
       "24960        R24952  192      F       Urban               Student   \n",
       "25105        R25096  203      M       Metro  Working Professional   \n",
       "28770        R28761  428      F       Rural  Working Professional   \n",
       "\n",
       "      income_levels consume_frequency(weekly) current_brand  \\\n",
       "3099      26L - 35L                 3-4 times   Established   \n",
       "6262      16L - 25L                 5-7 times   Established   \n",
       "12403          <10L                 0-2 times      Newcomer   \n",
       "22549     16L - 25L                 3-4 times      Newcomer   \n",
       "22918     16L - 25L                 3-4 times   Established   \n",
       "24958         > 35L                 0-2 times      Newcomer   \n",
       "24960           NaN                 3-4 times      Newcomer   \n",
       "25105     16L - 25L                 0-2 times   Established   \n",
       "28770     26L - 35L                 0-2 times   Established   \n",
       "\n",
       "      preferable_consumption_size awareness_of_other_brands  \\\n",
       "3099              Medium (500 ml)                    2 to 4   \n",
       "6262                  Large (1 L)                   above 4   \n",
       "12403              Small (250 ml)                    2 to 4   \n",
       "22549              Small (250 ml)                    2 to 4   \n",
       "22918             Medium (500 ml)                   above 4   \n",
       "24958              Small (250 ml)                    2 to 4   \n",
       "24960             Medium (500 ml)                    0 to 1   \n",
       "25105              Small (250 ml)                    2 to 4   \n",
       "28770              Small (250 ml)                    2 to 4   \n",
       "\n",
       "      reasons_for_choosing_brands flavor_preference purchase_channel  \\\n",
       "3099             Brand Reputation       Traditional     Retail Store   \n",
       "6262                      Quality            Exotic           Online   \n",
       "12403                Availability       Traditional           Online   \n",
       "22549                       Price       Traditional           Online   \n",
       "22918            Brand Reputation            Exotic           Online   \n",
       "24958                       Price       Traditional           Online   \n",
       "24960                       Price       Traditional           Online   \n",
       "25105            Brand Reputation            Exotic     Retail Store   \n",
       "28770            Brand Reputation            Exotic           Online   \n",
       "\n",
       "      packaging_preference                       health_concerns  \\\n",
       "3099               Premium  Medium (Moderately health-conscious)   \n",
       "6262                Simple          High (Very health-conscious)   \n",
       "12403               Simple  Medium (Moderately health-conscious)   \n",
       "22549              Premium          High (Very health-conscious)   \n",
       "22918         Eco-Friendly              Low (Not very concerned)   \n",
       "24958               Simple  Medium (Moderately health-conscious)   \n",
       "24960               Simple              Low (Not very concerned)   \n",
       "25105              Premium          High (Very health-conscious)   \n",
       "28770               Simple  Medium (Moderately health-conscious)   \n",
       "\n",
       "      typical_consumption_situations price_range  \n",
       "3099            Social (eg. Parties)     200-250  \n",
       "6262            Social (eg. Parties)     200-250  \n",
       "12403           Casual (eg. At home)     100-150  \n",
       "22549           Casual (eg. At home)     200-250  \n",
       "22918       Active (eg. Sports, gym)     150-200  \n",
       "24958       Active (eg. Sports, gym)     150-200  \n",
       "24960       Active (eg. Sports, gym)      50-100  \n",
       "25105       Active (eg. Sports, gym)     150-200  \n",
       "28770           Casual (eg. At home)     150-200  "
      ]
     },
     "execution_count": 9,
     "metadata": {},
     "output_type": "execute_result"
    }
   ],
   "source": [
    "df[df['age'] > 70]"
   ]
  },
  {
   "cell_type": "markdown",
   "metadata": {
    "id": "6aBCpFDILBDd"
   },
   "source": [
    "- It seems like respondents have made mistake during entering of age. We have 2 choice, whether to remove the data or assuming the last entered number is by mistake, we can just remove it and take rest of the age.\n",
    "- As the number of mis-macth rows are less, we can remove / ignore them.  "
   ]
  },
  {
   "cell_type": "code",
   "execution_count": 10,
   "metadata": {
    "colab": {
     "base_uri": "https://localhost:8080/"
    },
    "id": "yxdb16yNLBDd",
    "outputId": "081b5842-c270-4dc4-dcf7-96a585b4e37c"
   },
   "outputs": [
    {
     "name": "stdout",
     "output_type": "stream",
     "text": [
      "Number of rows after removing outlier ages:  (29991, 17)\n"
     ]
    }
   ],
   "source": [
    "df = df[df['age'] <= 70]\n",
    "print(\"Number of rows after removing outlier ages: \", df.shape)"
   ]
  },
  {
   "cell_type": "markdown",
   "metadata": {
    "id": "OgGB6jBFLBDe"
   },
   "source": [
    "- Logical error in occupation (Student category acorss all age groups)"
   ]
  },
  {
   "cell_type": "markdown",
   "metadata": {
    "id": "jXgX9ICaLBDe"
   },
   "source": [
    "**3: Handling Null data**"
   ]
  },
  {
   "cell_type": "code",
   "execution_count": 11,
   "metadata": {
    "colab": {
     "base_uri": "https://localhost:8080/",
     "height": 617
    },
    "id": "Q2PH4pSjLBDe",
    "outputId": "625bf3cd-45a4-40a4-c1c5-b79ab39e42c1"
   },
   "outputs": [
    {
     "data": {
      "text/plain": [
       "respondent_id                        0\n",
       "age                                  0\n",
       "gender                               0\n",
       "zone                                 0\n",
       "occupation                           0\n",
       "income_levels                     8060\n",
       "consume_frequency(weekly)            8\n",
       "current_brand                        0\n",
       "preferable_consumption_size          0\n",
       "awareness_of_other_brands            0\n",
       "reasons_for_choosing_brands          0\n",
       "flavor_preference                    0\n",
       "purchase_channel                    10\n",
       "packaging_preference                 0\n",
       "health_concerns                      0\n",
       "typical_consumption_situations       0\n",
       "price_range                          0\n",
       "dtype: int64"
      ]
     },
     "execution_count": 11,
     "metadata": {},
     "output_type": "execute_result"
    }
   ],
   "source": [
    "df.isnull().sum()"
   ]
  },
  {
   "cell_type": "markdown",
   "metadata": {
    "id": "WT8AzfjsLBDe"
   },
   "source": [
    "Seems like there are null values in `income_levels`, `consume_frequency(weekly)` and `purchase_channel`. Let's study one by one"
   ]
  },
  {
   "cell_type": "markdown",
   "metadata": {
    "id": "SKi-3be_LBDf"
   },
   "source": [
    "- **1: income_levels**  (In which occupations, we have more nulls)"
   ]
  },
  {
   "cell_type": "code",
   "execution_count": 12,
   "metadata": {
    "colab": {
     "base_uri": "https://localhost:8080/"
    },
    "id": "xOOfIOQRLBDf",
    "outputId": "89cd15a7-76a9-4685-935a-7db3e82f47b7"
   },
   "outputs": [
    {
     "data": {
      "text/plain": [
       "array(['<10L', '> 35L', '16L - 25L', nan, '10L - 15L', '26L - 35L'],\n",
       "      dtype=object)"
      ]
     },
     "execution_count": 12,
     "metadata": {},
     "output_type": "execute_result"
    }
   ],
   "source": [
    "df['income_levels'].unique()"
   ]
  },
  {
   "cell_type": "code",
   "execution_count": 13,
   "metadata": {
    "colab": {
     "base_uri": "https://localhost:8080/",
     "height": 423
    },
    "id": "-V-qimStLBDf",
    "outputId": "4d0e739f-d4f3-4494-c93a-047674523a27"
   },
   "outputs": [
    {
     "data": {
      "text/html": [
       "<div>\n",
       "<style scoped>\n",
       "    .dataframe tbody tr th:only-of-type {\n",
       "        vertical-align: middle;\n",
       "    }\n",
       "\n",
       "    .dataframe tbody tr th {\n",
       "        vertical-align: top;\n",
       "    }\n",
       "\n",
       "    .dataframe thead th {\n",
       "        text-align: right;\n",
       "    }\n",
       "</style>\n",
       "<table border=\"1\" class=\"dataframe\">\n",
       "  <thead>\n",
       "    <tr style=\"text-align: right;\">\n",
       "      <th></th>\n",
       "      <th>occupation</th>\n",
       "      <th>income_levels</th>\n",
       "    </tr>\n",
       "  </thead>\n",
       "  <tbody>\n",
       "    <tr>\n",
       "      <th>0</th>\n",
       "      <td>Working Professional</td>\n",
       "      <td>&lt;10L</td>\n",
       "    </tr>\n",
       "    <tr>\n",
       "      <th>1</th>\n",
       "      <td>Working Professional</td>\n",
       "      <td>&gt; 35L</td>\n",
       "    </tr>\n",
       "    <tr>\n",
       "      <th>2</th>\n",
       "      <td>Working Professional</td>\n",
       "      <td>&gt; 35L</td>\n",
       "    </tr>\n",
       "    <tr>\n",
       "      <th>3</th>\n",
       "      <td>Working Professional</td>\n",
       "      <td>16L - 25L</td>\n",
       "    </tr>\n",
       "    <tr>\n",
       "      <th>4</th>\n",
       "      <td>Student</td>\n",
       "      <td>NaN</td>\n",
       "    </tr>\n",
       "    <tr>\n",
       "      <th>...</th>\n",
       "      <td>...</td>\n",
       "      <td>...</td>\n",
       "    </tr>\n",
       "    <tr>\n",
       "      <th>30005</th>\n",
       "      <td>Working Professional</td>\n",
       "      <td>16L - 25L</td>\n",
       "    </tr>\n",
       "    <tr>\n",
       "      <th>30006</th>\n",
       "      <td>Working Professional</td>\n",
       "      <td>&gt; 35L</td>\n",
       "    </tr>\n",
       "    <tr>\n",
       "      <th>30007</th>\n",
       "      <td>Retired</td>\n",
       "      <td>&lt;10L</td>\n",
       "    </tr>\n",
       "    <tr>\n",
       "      <th>30008</th>\n",
       "      <td>Working Professional</td>\n",
       "      <td>16L - 25L</td>\n",
       "    </tr>\n",
       "    <tr>\n",
       "      <th>30009</th>\n",
       "      <td>Student</td>\n",
       "      <td>NaN</td>\n",
       "    </tr>\n",
       "  </tbody>\n",
       "</table>\n",
       "<p>29991 rows × 2 columns</p>\n",
       "</div>"
      ],
      "text/plain": [
       "                 occupation income_levels\n",
       "0      Working Professional          <10L\n",
       "1      Working Professional         > 35L\n",
       "2      Working Professional         > 35L\n",
       "3      Working Professional     16L - 25L\n",
       "4                   Student           NaN\n",
       "...                     ...           ...\n",
       "30005  Working Professional     16L - 25L\n",
       "30006  Working Professional         > 35L\n",
       "30007               Retired          <10L\n",
       "30008  Working Professional     16L - 25L\n",
       "30009               Student           NaN\n",
       "\n",
       "[29991 rows x 2 columns]"
      ]
     },
     "execution_count": 13,
     "metadata": {},
     "output_type": "execute_result"
    }
   ],
   "source": [
    "df[['occupation', 'income_levels']]"
   ]
  },
  {
   "cell_type": "code",
   "execution_count": 14,
   "metadata": {
    "colab": {
     "base_uri": "https://localhost:8080/",
     "height": 241
    },
    "id": "zt9M12aFLBDf",
    "outputId": "9cd90a07-5434-4cbb-f661-4e48e0e321d8"
   },
   "outputs": [
    {
     "data": {
      "text/plain": [
       "occupation\n",
       "Entrepreneur               0\n",
       "Retired                    0\n",
       "Student                 8060\n",
       "Working Professional       0\n",
       "Name: income_levels, dtype: int64"
      ]
     },
     "execution_count": 14,
     "metadata": {},
     "output_type": "execute_result"
    }
   ],
   "source": [
    "null_counts = df.groupby('occupation')['income_levels'].apply(lambda x: x.isnull().sum())\n",
    "null_counts"
   ]
  },
  {
   "cell_type": "markdown",
   "metadata": {
    "id": "zCiqJ9ttLBDg"
   },
   "source": [
    "- Seems that the null values are present only in `Student` category. This make sense that generally student do not earn and resulting in not mentioning the income levels. Let's fill this category as `Not Reported`."
   ]
  },
  {
   "cell_type": "code",
   "execution_count": 15,
   "metadata": {
    "colab": {
     "base_uri": "https://localhost:8080/",
     "height": 617
    },
    "id": "LkjcqTN_LBDg",
    "outputId": "8032b3d3-d107-41a0-b29d-829813c9d1ff"
   },
   "outputs": [
    {
     "data": {
      "text/plain": [
       "respondent_id                      0\n",
       "age                                0\n",
       "gender                             0\n",
       "zone                               0\n",
       "occupation                         0\n",
       "income_levels                      0\n",
       "consume_frequency(weekly)          8\n",
       "current_brand                      0\n",
       "preferable_consumption_size        0\n",
       "awareness_of_other_brands          0\n",
       "reasons_for_choosing_brands        0\n",
       "flavor_preference                  0\n",
       "purchase_channel                  10\n",
       "packaging_preference               0\n",
       "health_concerns                    0\n",
       "typical_consumption_situations     0\n",
       "price_range                        0\n",
       "dtype: int64"
      ]
     },
     "execution_count": 15,
     "metadata": {},
     "output_type": "execute_result"
    }
   ],
   "source": [
    "df['income_levels'] = df['income_levels'].fillna('Not Reported')\n",
    "df.isna().sum()"
   ]
  },
  {
   "cell_type": "markdown",
   "metadata": {
    "id": "mlTueLlRLBDh"
   },
   "source": [
    "- **2: consume_frequency(weekly)**"
   ]
  },
  {
   "cell_type": "code",
   "execution_count": 16,
   "metadata": {
    "colab": {
     "base_uri": "https://localhost:8080/",
     "height": 493
    },
    "id": "qtqY2OsELBDh",
    "outputId": "2bb7e9a8-9ea2-44e3-fab2-6508c16817da"
   },
   "outputs": [
    {
     "data": {
      "text/html": [
       "<div>\n",
       "<style scoped>\n",
       "    .dataframe tbody tr th:only-of-type {\n",
       "        vertical-align: middle;\n",
       "    }\n",
       "\n",
       "    .dataframe tbody tr th {\n",
       "        vertical-align: top;\n",
       "    }\n",
       "\n",
       "    .dataframe thead th {\n",
       "        text-align: right;\n",
       "    }\n",
       "</style>\n",
       "<table border=\"1\" class=\"dataframe\">\n",
       "  <thead>\n",
       "    <tr style=\"text-align: right;\">\n",
       "      <th></th>\n",
       "      <th>respondent_id</th>\n",
       "      <th>age</th>\n",
       "      <th>gender</th>\n",
       "      <th>zone</th>\n",
       "      <th>occupation</th>\n",
       "      <th>income_levels</th>\n",
       "      <th>consume_frequency(weekly)</th>\n",
       "      <th>current_brand</th>\n",
       "      <th>preferable_consumption_size</th>\n",
       "      <th>awareness_of_other_brands</th>\n",
       "      <th>reasons_for_choosing_brands</th>\n",
       "      <th>flavor_preference</th>\n",
       "      <th>purchase_channel</th>\n",
       "      <th>packaging_preference</th>\n",
       "      <th>health_concerns</th>\n",
       "      <th>typical_consumption_situations</th>\n",
       "      <th>price_range</th>\n",
       "    </tr>\n",
       "  </thead>\n",
       "  <tbody>\n",
       "    <tr>\n",
       "      <th>879</th>\n",
       "      <td>R00880</td>\n",
       "      <td>48</td>\n",
       "      <td>F</td>\n",
       "      <td>Urban</td>\n",
       "      <td>Entrepreneur</td>\n",
       "      <td>26L - 35L</td>\n",
       "      <td>NaN</td>\n",
       "      <td>Newcomer</td>\n",
       "      <td>Medium (500 ml)</td>\n",
       "      <td>above 4</td>\n",
       "      <td>Quality</td>\n",
       "      <td>Traditional</td>\n",
       "      <td>Retail Store</td>\n",
       "      <td>Premium</td>\n",
       "      <td>Medium (Moderately health-conscious)</td>\n",
       "      <td>Casual (eg. At home)</td>\n",
       "      <td>200-250</td>\n",
       "    </tr>\n",
       "    <tr>\n",
       "      <th>4174</th>\n",
       "      <td>R04173</td>\n",
       "      <td>23</td>\n",
       "      <td>M</td>\n",
       "      <td>Urban</td>\n",
       "      <td>Student</td>\n",
       "      <td>Not Reported</td>\n",
       "      <td>NaN</td>\n",
       "      <td>Newcomer</td>\n",
       "      <td>Medium (500 ml)</td>\n",
       "      <td>above 4</td>\n",
       "      <td>Price</td>\n",
       "      <td>Exotic</td>\n",
       "      <td>Retail Store</td>\n",
       "      <td>Simple</td>\n",
       "      <td>High (Very health-conscious)</td>\n",
       "      <td>Active (eg. Sports, gym)</td>\n",
       "      <td>150-200</td>\n",
       "    </tr>\n",
       "    <tr>\n",
       "      <th>9550</th>\n",
       "      <td>R09546</td>\n",
       "      <td>19</td>\n",
       "      <td>M</td>\n",
       "      <td>Urban</td>\n",
       "      <td>Student</td>\n",
       "      <td>Not Reported</td>\n",
       "      <td>NaN</td>\n",
       "      <td>Established</td>\n",
       "      <td>Medium (500 ml)</td>\n",
       "      <td>0 to 1</td>\n",
       "      <td>Price</td>\n",
       "      <td>Exotic</td>\n",
       "      <td>Online</td>\n",
       "      <td>Simple</td>\n",
       "      <td>High (Very health-conscious)</td>\n",
       "      <td>Casual (eg. At home)</td>\n",
       "      <td>50-100</td>\n",
       "    </tr>\n",
       "    <tr>\n",
       "      <th>15352</th>\n",
       "      <td>R15347</td>\n",
       "      <td>25</td>\n",
       "      <td>M</td>\n",
       "      <td>Metro</td>\n",
       "      <td>Student</td>\n",
       "      <td>Not Reported</td>\n",
       "      <td>NaN</td>\n",
       "      <td>Newcomer</td>\n",
       "      <td>Large (1 L)</td>\n",
       "      <td>0 to 1</td>\n",
       "      <td>Availability</td>\n",
       "      <td>Exotic</td>\n",
       "      <td>Retail Store</td>\n",
       "      <td>Premium</td>\n",
       "      <td>High (Very health-conscious)</td>\n",
       "      <td>Social (eg. Parties)</td>\n",
       "      <td>100-150</td>\n",
       "    </tr>\n",
       "    <tr>\n",
       "      <th>19719</th>\n",
       "      <td>R19713</td>\n",
       "      <td>27</td>\n",
       "      <td>M</td>\n",
       "      <td>Urban</td>\n",
       "      <td>Working Professional</td>\n",
       "      <td>16L - 25L</td>\n",
       "      <td>NaN</td>\n",
       "      <td>Newcomer</td>\n",
       "      <td>Medium (500 ml)</td>\n",
       "      <td>2 to 4</td>\n",
       "      <td>Quality</td>\n",
       "      <td>Exotic</td>\n",
       "      <td>Retail Store</td>\n",
       "      <td>Premium</td>\n",
       "      <td>Medium (Moderately health-conscious)</td>\n",
       "      <td>Active (eg. Sports, gym)</td>\n",
       "      <td>200-250</td>\n",
       "    </tr>\n",
       "    <tr>\n",
       "      <th>26143</th>\n",
       "      <td>R26134</td>\n",
       "      <td>19</td>\n",
       "      <td>M</td>\n",
       "      <td>Metro</td>\n",
       "      <td>Student</td>\n",
       "      <td>Not Reported</td>\n",
       "      <td>NaN</td>\n",
       "      <td>Newcomer</td>\n",
       "      <td>Medium (500 ml)</td>\n",
       "      <td>2 to 4</td>\n",
       "      <td>Price</td>\n",
       "      <td>Exotic</td>\n",
       "      <td>Retail Store</td>\n",
       "      <td>Premium</td>\n",
       "      <td>High (Very health-conscious)</td>\n",
       "      <td>Active (eg. Sports, gym)</td>\n",
       "      <td>150-200</td>\n",
       "    </tr>\n",
       "    <tr>\n",
       "      <th>26859</th>\n",
       "      <td>R26850</td>\n",
       "      <td>25</td>\n",
       "      <td>M</td>\n",
       "      <td>Metro</td>\n",
       "      <td>Working Professional</td>\n",
       "      <td>16L - 25L</td>\n",
       "      <td>NaN</td>\n",
       "      <td>Established</td>\n",
       "      <td>Medium (500 ml)</td>\n",
       "      <td>2 to 4</td>\n",
       "      <td>Brand Reputation</td>\n",
       "      <td>Exotic</td>\n",
       "      <td>Retail Store</td>\n",
       "      <td>Premium</td>\n",
       "      <td>High (Very health-conscious)</td>\n",
       "      <td>Casual (eg. At home)</td>\n",
       "      <td>200-250</td>\n",
       "    </tr>\n",
       "    <tr>\n",
       "      <th>27163</th>\n",
       "      <td>R27154</td>\n",
       "      <td>21</td>\n",
       "      <td>M</td>\n",
       "      <td>Metro</td>\n",
       "      <td>Student</td>\n",
       "      <td>Not Reported</td>\n",
       "      <td>NaN</td>\n",
       "      <td>Established</td>\n",
       "      <td>Small (250 ml)</td>\n",
       "      <td>2 to 4</td>\n",
       "      <td>Price</td>\n",
       "      <td>Traditional</td>\n",
       "      <td>Retail Store</td>\n",
       "      <td>Simple</td>\n",
       "      <td>Low (Not very concerned)</td>\n",
       "      <td>Casual (eg. At home)</td>\n",
       "      <td>50-100</td>\n",
       "    </tr>\n",
       "  </tbody>\n",
       "</table>\n",
       "</div>"
      ],
      "text/plain": [
       "      respondent_id  age gender   zone            occupation income_levels  \\\n",
       "879          R00880   48      F  Urban          Entrepreneur     26L - 35L   \n",
       "4174         R04173   23      M  Urban               Student  Not Reported   \n",
       "9550         R09546   19      M  Urban               Student  Not Reported   \n",
       "15352        R15347   25      M  Metro               Student  Not Reported   \n",
       "19719        R19713   27      M  Urban  Working Professional     16L - 25L   \n",
       "26143        R26134   19      M  Metro               Student  Not Reported   \n",
       "26859        R26850   25      M  Metro  Working Professional     16L - 25L   \n",
       "27163        R27154   21      M  Metro               Student  Not Reported   \n",
       "\n",
       "      consume_frequency(weekly) current_brand preferable_consumption_size  \\\n",
       "879                         NaN      Newcomer             Medium (500 ml)   \n",
       "4174                        NaN      Newcomer             Medium (500 ml)   \n",
       "9550                        NaN   Established             Medium (500 ml)   \n",
       "15352                       NaN      Newcomer                 Large (1 L)   \n",
       "19719                       NaN      Newcomer             Medium (500 ml)   \n",
       "26143                       NaN      Newcomer             Medium (500 ml)   \n",
       "26859                       NaN   Established             Medium (500 ml)   \n",
       "27163                       NaN   Established              Small (250 ml)   \n",
       "\n",
       "      awareness_of_other_brands reasons_for_choosing_brands flavor_preference  \\\n",
       "879                     above 4                     Quality       Traditional   \n",
       "4174                    above 4                       Price            Exotic   \n",
       "9550                     0 to 1                       Price            Exotic   \n",
       "15352                    0 to 1                Availability            Exotic   \n",
       "19719                    2 to 4                     Quality            Exotic   \n",
       "26143                    2 to 4                       Price            Exotic   \n",
       "26859                    2 to 4            Brand Reputation            Exotic   \n",
       "27163                    2 to 4                       Price       Traditional   \n",
       "\n",
       "      purchase_channel packaging_preference  \\\n",
       "879       Retail Store              Premium   \n",
       "4174      Retail Store               Simple   \n",
       "9550            Online               Simple   \n",
       "15352     Retail Store              Premium   \n",
       "19719     Retail Store              Premium   \n",
       "26143     Retail Store              Premium   \n",
       "26859     Retail Store              Premium   \n",
       "27163     Retail Store               Simple   \n",
       "\n",
       "                            health_concerns typical_consumption_situations  \\\n",
       "879    Medium (Moderately health-conscious)           Casual (eg. At home)   \n",
       "4174           High (Very health-conscious)       Active (eg. Sports, gym)   \n",
       "9550           High (Very health-conscious)           Casual (eg. At home)   \n",
       "15352          High (Very health-conscious)           Social (eg. Parties)   \n",
       "19719  Medium (Moderately health-conscious)       Active (eg. Sports, gym)   \n",
       "26143          High (Very health-conscious)       Active (eg. Sports, gym)   \n",
       "26859          High (Very health-conscious)           Casual (eg. At home)   \n",
       "27163              Low (Not very concerned)           Casual (eg. At home)   \n",
       "\n",
       "      price_range  \n",
       "879       200-250  \n",
       "4174      150-200  \n",
       "9550       50-100  \n",
       "15352     100-150  \n",
       "19719     200-250  \n",
       "26143     150-200  \n",
       "26859     200-250  \n",
       "27163      50-100  "
      ]
     },
     "execution_count": 16,
     "metadata": {},
     "output_type": "execute_result"
    }
   ],
   "source": [
    "# let's check all rows which contain null values\n",
    "\n",
    "null_rows = df[df['consume_frequency(weekly)'].isnull()]\n",
    "null_rows"
   ]
  },
  {
   "cell_type": "code",
   "execution_count": 17,
   "metadata": {
    "id": "kUdo0sgPLBDi"
   },
   "outputs": [],
   "source": [
    "### Let's fill null values with `mode`\n",
    "\n",
    "# Calculate the mode of the 'consume_frequency(weekly)' column\n",
    "mode_value = df['consume_frequency(weekly)'].mode().iloc[0]\n",
    "\n",
    "# Fill the null values with the mode\n",
    "df['consume_frequency(weekly)'].fillna(mode_value, inplace=True)"
   ]
  },
  {
   "cell_type": "markdown",
   "metadata": {
    "id": "v1L0ZS8VLBDj"
   },
   "source": [
    "- **3: purchase_channel**"
   ]
  },
  {
   "cell_type": "code",
   "execution_count": 18,
   "metadata": {
    "colab": {
     "base_uri": "https://localhost:8080/",
     "height": 591
    },
    "id": "9hP44DaKLBDj",
    "outputId": "7b8f4e99-739e-40e6-bd20-7b34cd932dc0"
   },
   "outputs": [
    {
     "data": {
      "text/html": [
       "<div>\n",
       "<style scoped>\n",
       "    .dataframe tbody tr th:only-of-type {\n",
       "        vertical-align: middle;\n",
       "    }\n",
       "\n",
       "    .dataframe tbody tr th {\n",
       "        vertical-align: top;\n",
       "    }\n",
       "\n",
       "    .dataframe thead th {\n",
       "        text-align: right;\n",
       "    }\n",
       "</style>\n",
       "<table border=\"1\" class=\"dataframe\">\n",
       "  <thead>\n",
       "    <tr style=\"text-align: right;\">\n",
       "      <th></th>\n",
       "      <th>respondent_id</th>\n",
       "      <th>age</th>\n",
       "      <th>gender</th>\n",
       "      <th>zone</th>\n",
       "      <th>occupation</th>\n",
       "      <th>income_levels</th>\n",
       "      <th>consume_frequency(weekly)</th>\n",
       "      <th>current_brand</th>\n",
       "      <th>preferable_consumption_size</th>\n",
       "      <th>awareness_of_other_brands</th>\n",
       "      <th>reasons_for_choosing_brands</th>\n",
       "      <th>flavor_preference</th>\n",
       "      <th>purchase_channel</th>\n",
       "      <th>packaging_preference</th>\n",
       "      <th>health_concerns</th>\n",
       "      <th>typical_consumption_situations</th>\n",
       "      <th>price_range</th>\n",
       "    </tr>\n",
       "  </thead>\n",
       "  <tbody>\n",
       "    <tr>\n",
       "      <th>653</th>\n",
       "      <td>R00654</td>\n",
       "      <td>35</td>\n",
       "      <td>M</td>\n",
       "      <td>Urban</td>\n",
       "      <td>Working Professional</td>\n",
       "      <td>&lt;10L</td>\n",
       "      <td>3-4 times</td>\n",
       "      <td>Newcomer</td>\n",
       "      <td>Small (250 ml)</td>\n",
       "      <td>0 to 1</td>\n",
       "      <td>Price</td>\n",
       "      <td>Exotic</td>\n",
       "      <td>NaN</td>\n",
       "      <td>Simple</td>\n",
       "      <td>High (Very health-conscious)</td>\n",
       "      <td>Active (eg. Sports, gym)</td>\n",
       "      <td>150-200</td>\n",
       "    </tr>\n",
       "    <tr>\n",
       "      <th>1865</th>\n",
       "      <td>R01866</td>\n",
       "      <td>21</td>\n",
       "      <td>M</td>\n",
       "      <td>Urban</td>\n",
       "      <td>Student</td>\n",
       "      <td>Not Reported</td>\n",
       "      <td>0-2 times</td>\n",
       "      <td>Newcomer</td>\n",
       "      <td>Medium (500 ml)</td>\n",
       "      <td>0 to 1</td>\n",
       "      <td>Availability</td>\n",
       "      <td>Traditional</td>\n",
       "      <td>NaN</td>\n",
       "      <td>Simple</td>\n",
       "      <td>Low (Not very concerned)</td>\n",
       "      <td>Social (eg. Parties)</td>\n",
       "      <td>50-100</td>\n",
       "    </tr>\n",
       "    <tr>\n",
       "      <th>4280</th>\n",
       "      <td>R04279</td>\n",
       "      <td>39</td>\n",
       "      <td>M</td>\n",
       "      <td>Metro</td>\n",
       "      <td>Entrepreneur</td>\n",
       "      <td>26L - 35L</td>\n",
       "      <td>0-2 times</td>\n",
       "      <td>Newcomer</td>\n",
       "      <td>Medium (500 ml)</td>\n",
       "      <td>2 to 4</td>\n",
       "      <td>Availability</td>\n",
       "      <td>Exotic</td>\n",
       "      <td>NaN</td>\n",
       "      <td>Eco-Friendly</td>\n",
       "      <td>High (Very health-conscious)</td>\n",
       "      <td>Casual (eg. At home)</td>\n",
       "      <td>200-250</td>\n",
       "    </tr>\n",
       "    <tr>\n",
       "      <th>14657</th>\n",
       "      <td>R14652</td>\n",
       "      <td>30</td>\n",
       "      <td>F</td>\n",
       "      <td>Urban</td>\n",
       "      <td>Working Professional</td>\n",
       "      <td>&lt;10L</td>\n",
       "      <td>0-2 times</td>\n",
       "      <td>Newcomer</td>\n",
       "      <td>Medium (500 ml)</td>\n",
       "      <td>2 to 4</td>\n",
       "      <td>Price</td>\n",
       "      <td>Exotic</td>\n",
       "      <td>NaN</td>\n",
       "      <td>Premium</td>\n",
       "      <td>High (Very health-conscious)</td>\n",
       "      <td>Casual (eg. At home)</td>\n",
       "      <td>150-200</td>\n",
       "    </tr>\n",
       "    <tr>\n",
       "      <th>15423</th>\n",
       "      <td>R15418</td>\n",
       "      <td>39</td>\n",
       "      <td>M</td>\n",
       "      <td>Rural</td>\n",
       "      <td>Working Professional</td>\n",
       "      <td>16L - 25L</td>\n",
       "      <td>0-2 times</td>\n",
       "      <td>Newcomer</td>\n",
       "      <td>Small (250 ml)</td>\n",
       "      <td>0 to 1</td>\n",
       "      <td>Price</td>\n",
       "      <td>Exotic</td>\n",
       "      <td>NaN</td>\n",
       "      <td>Premium</td>\n",
       "      <td>Medium (Moderately health-conscious)</td>\n",
       "      <td>Casual (eg. At home)</td>\n",
       "      <td>150-200</td>\n",
       "    </tr>\n",
       "    <tr>\n",
       "      <th>17207</th>\n",
       "      <td>R17202</td>\n",
       "      <td>41</td>\n",
       "      <td>M</td>\n",
       "      <td>Urban</td>\n",
       "      <td>Entrepreneur</td>\n",
       "      <td>16L - 25L</td>\n",
       "      <td>5-7 times</td>\n",
       "      <td>Newcomer</td>\n",
       "      <td>Large (1 L)</td>\n",
       "      <td>2 to 4</td>\n",
       "      <td>Brand Reputation</td>\n",
       "      <td>Traditional</td>\n",
       "      <td>NaN</td>\n",
       "      <td>Eco-Friendly</td>\n",
       "      <td>High (Very health-conscious)</td>\n",
       "      <td>Social (eg. Parties)</td>\n",
       "      <td>200-250</td>\n",
       "    </tr>\n",
       "    <tr>\n",
       "      <th>20527</th>\n",
       "      <td>R20521</td>\n",
       "      <td>22</td>\n",
       "      <td>F</td>\n",
       "      <td>Metro</td>\n",
       "      <td>Student</td>\n",
       "      <td>Not Reported</td>\n",
       "      <td>3-4 times</td>\n",
       "      <td>Newcomer</td>\n",
       "      <td>Large (1 L)</td>\n",
       "      <td>0 to 1</td>\n",
       "      <td>Price</td>\n",
       "      <td>Exotic</td>\n",
       "      <td>NaN</td>\n",
       "      <td>Simple</td>\n",
       "      <td>Low (Not very concerned)</td>\n",
       "      <td>Active (eg. Sports, gym)</td>\n",
       "      <td>50-100</td>\n",
       "    </tr>\n",
       "    <tr>\n",
       "      <th>23741</th>\n",
       "      <td>R23733</td>\n",
       "      <td>26</td>\n",
       "      <td>M</td>\n",
       "      <td>Urban</td>\n",
       "      <td>Working Professional</td>\n",
       "      <td>26L - 35L</td>\n",
       "      <td>0-2 times</td>\n",
       "      <td>Established</td>\n",
       "      <td>Small (250 ml)</td>\n",
       "      <td>2 to 4</td>\n",
       "      <td>Quality</td>\n",
       "      <td>Traditional</td>\n",
       "      <td>NaN</td>\n",
       "      <td>Eco-Friendly</td>\n",
       "      <td>High (Very health-conscious)</td>\n",
       "      <td>Social (eg. Parties)</td>\n",
       "      <td>200-250</td>\n",
       "    </tr>\n",
       "    <tr>\n",
       "      <th>24551</th>\n",
       "      <td>R24543</td>\n",
       "      <td>48</td>\n",
       "      <td>F</td>\n",
       "      <td>Metro</td>\n",
       "      <td>Entrepreneur</td>\n",
       "      <td>&gt; 35L</td>\n",
       "      <td>3-4 times</td>\n",
       "      <td>Newcomer</td>\n",
       "      <td>Large (1 L)</td>\n",
       "      <td>0 to 1</td>\n",
       "      <td>Brand Reputation</td>\n",
       "      <td>Exotic</td>\n",
       "      <td>NaN</td>\n",
       "      <td>Eco-Friendly</td>\n",
       "      <td>High (Very health-conscious)</td>\n",
       "      <td>Casual (eg. At home)</td>\n",
       "      <td>200-250</td>\n",
       "    </tr>\n",
       "    <tr>\n",
       "      <th>28559</th>\n",
       "      <td>R28550</td>\n",
       "      <td>35</td>\n",
       "      <td>M</td>\n",
       "      <td>Urban</td>\n",
       "      <td>Student</td>\n",
       "      <td>Not Reported</td>\n",
       "      <td>0-2 times</td>\n",
       "      <td>Newcomer</td>\n",
       "      <td>Medium (500 ml)</td>\n",
       "      <td>0 to 1</td>\n",
       "      <td>Price</td>\n",
       "      <td>Exotic</td>\n",
       "      <td>NaN</td>\n",
       "      <td>Simple</td>\n",
       "      <td>Low (Not very concerned)</td>\n",
       "      <td>Casual (eg. At home)</td>\n",
       "      <td>50-100</td>\n",
       "    </tr>\n",
       "  </tbody>\n",
       "</table>\n",
       "</div>"
      ],
      "text/plain": [
       "      respondent_id  age gender   zone            occupation income_levels  \\\n",
       "653          R00654   35      M  Urban  Working Professional          <10L   \n",
       "1865         R01866   21      M  Urban               Student  Not Reported   \n",
       "4280         R04279   39      M  Metro          Entrepreneur     26L - 35L   \n",
       "14657        R14652   30      F  Urban  Working Professional          <10L   \n",
       "15423        R15418   39      M  Rural  Working Professional     16L - 25L   \n",
       "17207        R17202   41      M  Urban          Entrepreneur     16L - 25L   \n",
       "20527        R20521   22      F  Metro               Student  Not Reported   \n",
       "23741        R23733   26      M  Urban  Working Professional     26L - 35L   \n",
       "24551        R24543   48      F  Metro          Entrepreneur         > 35L   \n",
       "28559        R28550   35      M  Urban               Student  Not Reported   \n",
       "\n",
       "      consume_frequency(weekly) current_brand preferable_consumption_size  \\\n",
       "653                   3-4 times      Newcomer              Small (250 ml)   \n",
       "1865                  0-2 times      Newcomer             Medium (500 ml)   \n",
       "4280                  0-2 times      Newcomer             Medium (500 ml)   \n",
       "14657                 0-2 times      Newcomer             Medium (500 ml)   \n",
       "15423                 0-2 times      Newcomer              Small (250 ml)   \n",
       "17207                 5-7 times      Newcomer                 Large (1 L)   \n",
       "20527                 3-4 times      Newcomer                 Large (1 L)   \n",
       "23741                 0-2 times   Established              Small (250 ml)   \n",
       "24551                 3-4 times      Newcomer                 Large (1 L)   \n",
       "28559                 0-2 times      Newcomer             Medium (500 ml)   \n",
       "\n",
       "      awareness_of_other_brands reasons_for_choosing_brands flavor_preference  \\\n",
       "653                      0 to 1                       Price            Exotic   \n",
       "1865                     0 to 1                Availability       Traditional   \n",
       "4280                     2 to 4                Availability            Exotic   \n",
       "14657                    2 to 4                       Price            Exotic   \n",
       "15423                    0 to 1                       Price            Exotic   \n",
       "17207                    2 to 4            Brand Reputation       Traditional   \n",
       "20527                    0 to 1                       Price            Exotic   \n",
       "23741                    2 to 4                     Quality       Traditional   \n",
       "24551                    0 to 1            Brand Reputation            Exotic   \n",
       "28559                    0 to 1                       Price            Exotic   \n",
       "\n",
       "      purchase_channel packaging_preference  \\\n",
       "653                NaN               Simple   \n",
       "1865               NaN               Simple   \n",
       "4280               NaN         Eco-Friendly   \n",
       "14657              NaN              Premium   \n",
       "15423              NaN              Premium   \n",
       "17207              NaN         Eco-Friendly   \n",
       "20527              NaN               Simple   \n",
       "23741              NaN         Eco-Friendly   \n",
       "24551              NaN         Eco-Friendly   \n",
       "28559              NaN               Simple   \n",
       "\n",
       "                            health_concerns typical_consumption_situations  \\\n",
       "653            High (Very health-conscious)       Active (eg. Sports, gym)   \n",
       "1865               Low (Not very concerned)           Social (eg. Parties)   \n",
       "4280           High (Very health-conscious)           Casual (eg. At home)   \n",
       "14657          High (Very health-conscious)           Casual (eg. At home)   \n",
       "15423  Medium (Moderately health-conscious)           Casual (eg. At home)   \n",
       "17207          High (Very health-conscious)           Social (eg. Parties)   \n",
       "20527              Low (Not very concerned)       Active (eg. Sports, gym)   \n",
       "23741          High (Very health-conscious)           Social (eg. Parties)   \n",
       "24551          High (Very health-conscious)           Casual (eg. At home)   \n",
       "28559              Low (Not very concerned)           Casual (eg. At home)   \n",
       "\n",
       "      price_range  \n",
       "653       150-200  \n",
       "1865       50-100  \n",
       "4280      200-250  \n",
       "14657     150-200  \n",
       "15423     150-200  \n",
       "17207     200-250  \n",
       "20527      50-100  \n",
       "23741     200-250  \n",
       "24551     200-250  \n",
       "28559      50-100  "
      ]
     },
     "execution_count": 18,
     "metadata": {},
     "output_type": "execute_result"
    }
   ],
   "source": [
    "null_rows = df[df['purchase_channel'].isnull()]\n",
    "null_rows"
   ]
  },
  {
   "cell_type": "code",
   "execution_count": 19,
   "metadata": {
    "id": "lo9nsJYeLBDk"
   },
   "outputs": [
    {
     "name": "stdout",
     "output_type": "stream",
     "text": [
      "Online\n"
     ]
    }
   ],
   "source": [
    "### Let's fill null values with `mode`\n",
    "\n",
    "# Calculate the mode of the 'purchase_channel' column\n",
    "mode_value = df['purchase_channel'].mode().iloc[0]\n",
    "print(mode_value)\n",
    "\n",
    "# Fill the null values with the mode\n",
    "df['purchase_channel'].fillna(mode_value, inplace=True)"
   ]
  },
  {
   "cell_type": "markdown",
   "metadata": {
    "id": "qvx9lbXDLBDk"
   },
   "source": [
    "Finally check any nulls values till"
   ]
  },
  {
   "cell_type": "code",
   "execution_count": 20,
   "metadata": {
    "colab": {
     "base_uri": "https://localhost:8080/",
     "height": 617
    },
    "id": "fsf3TJ6rLBDl",
    "outputId": "22a247de-5928-40ae-d5fe-0d9b063731d8"
   },
   "outputs": [
    {
     "data": {
      "text/plain": [
       "respondent_id                     0\n",
       "age                               0\n",
       "gender                            0\n",
       "zone                              0\n",
       "occupation                        0\n",
       "income_levels                     0\n",
       "consume_frequency(weekly)         0\n",
       "current_brand                     0\n",
       "preferable_consumption_size       0\n",
       "awareness_of_other_brands         0\n",
       "reasons_for_choosing_brands       0\n",
       "flavor_preference                 0\n",
       "purchase_channel                  0\n",
       "packaging_preference              0\n",
       "health_concerns                   0\n",
       "typical_consumption_situations    0\n",
       "price_range                       0\n",
       "dtype: int64"
      ]
     },
     "execution_count": 20,
     "metadata": {},
     "output_type": "execute_result"
    }
   ],
   "source": [
    "df.isnull().sum()"
   ]
  },
  {
   "cell_type": "markdown",
   "metadata": {
    "id": "eOjGUBnlLBDm"
   },
   "source": [
    "**4: Handling Spelling mistakes**"
   ]
  },
  {
   "cell_type": "code",
   "execution_count": 21,
   "metadata": {
    "colab": {
     "base_uri": "https://localhost:8080/"
    },
    "id": "PNzGedw0LBDm",
    "outputId": "31c0adf1-959b-41ea-89b8-6447aa9d714d"
   },
   "outputs": [
    {
     "data": {
      "text/plain": [
       "array(['Urban', 'Metro', 'Rural', 'Semi-Urban', 'Metor', 'urbna'],\n",
       "      dtype=object)"
      ]
     },
     "execution_count": 21,
     "metadata": {},
     "output_type": "execute_result"
    }
   ],
   "source": [
    "df['zone'].unique()"
   ]
  },
  {
   "cell_type": "code",
   "execution_count": 22,
   "metadata": {
    "colab": {
     "base_uri": "https://localhost:8080/"
    },
    "id": "T17ohsL1LBDx",
    "outputId": "b33c9bff-4b82-41b7-9dbf-394dc9617188"
   },
   "outputs": [
    {
     "data": {
      "text/plain": [
       "array(['Newcomer', 'Established', 'newcomer', 'Establishd'], dtype=object)"
      ]
     },
     "execution_count": 22,
     "metadata": {},
     "output_type": "execute_result"
    }
   ],
   "source": [
    "df['current_brand'].unique()"
   ]
  },
  {
   "cell_type": "markdown",
   "metadata": {
    "id": "lL0_aCLWLBDx"
   },
   "source": [
    "- Seems some of the category are mistakenly spelled wrong. We need to replace them"
   ]
  },
  {
   "cell_type": "code",
   "execution_count": 23,
   "metadata": {
    "id": "ATKJQV_QLBDy"
   },
   "outputs": [],
   "source": [
    "# replace in zone\n",
    "\n",
    "# Define the replacements in a dictionary\n",
    "replacements = {\n",
    "    'urbna': 'Urban',\n",
    "    'Metor': 'Metro'\n",
    "}\n",
    "\n",
    "# Replace the specified categories\n",
    "df['zone'] = df['zone'].replace(replacements)"
   ]
  },
  {
   "cell_type": "code",
   "execution_count": 24,
   "metadata": {
    "id": "RtpnRQ-RLBDz"
   },
   "outputs": [],
   "source": [
    "# replace in current_brand\n",
    "\n",
    "# Define the replacements in a dictionary\n",
    "replacements = {\n",
    "    'Establishd': 'Established',\n",
    "    'newcomer': 'Newcomer'\n",
    "}\n",
    "\n",
    "# Replace the specified categories\n",
    "df['current_brand'] = df['current_brand'].replace(replacements)"
   ]
  },
  {
   "cell_type": "markdown",
   "metadata": {
    "id": "fFc8tF7iLBDz"
   },
   "source": [
    "### Feature Engineering"
   ]
  },
  {
   "cell_type": "markdown",
   "metadata": {
    "id": "q7BS0AiQLBD0"
   },
   "source": [
    "1. Adding `age_group` instead of just age. This will help for model performance"
   ]
  },
  {
   "cell_type": "code",
   "execution_count": 25,
   "metadata": {
    "colab": {
     "base_uri": "https://localhost:8080/",
     "height": 201
    },
    "id": "zSuF7NZrLBD0",
    "outputId": "e12245ee-3881-4b76-cf9c-d863f6ece09f"
   },
   "outputs": [
    {
     "data": {
      "text/html": [
       "<div>\n",
       "<style scoped>\n",
       "    .dataframe tbody tr th:only-of-type {\n",
       "        vertical-align: middle;\n",
       "    }\n",
       "\n",
       "    .dataframe tbody tr th {\n",
       "        vertical-align: top;\n",
       "    }\n",
       "\n",
       "    .dataframe thead th {\n",
       "        text-align: right;\n",
       "    }\n",
       "</style>\n",
       "<table border=\"1\" class=\"dataframe\">\n",
       "  <thead>\n",
       "    <tr style=\"text-align: right;\">\n",
       "      <th></th>\n",
       "      <th>respondent_id</th>\n",
       "      <th>age</th>\n",
       "      <th>gender</th>\n",
       "      <th>zone</th>\n",
       "      <th>occupation</th>\n",
       "      <th>income_levels</th>\n",
       "      <th>consume_frequency(weekly)</th>\n",
       "      <th>current_brand</th>\n",
       "      <th>preferable_consumption_size</th>\n",
       "      <th>awareness_of_other_brands</th>\n",
       "      <th>reasons_for_choosing_brands</th>\n",
       "      <th>flavor_preference</th>\n",
       "      <th>purchase_channel</th>\n",
       "      <th>packaging_preference</th>\n",
       "      <th>health_concerns</th>\n",
       "      <th>typical_consumption_situations</th>\n",
       "      <th>price_range</th>\n",
       "    </tr>\n",
       "  </thead>\n",
       "  <tbody>\n",
       "    <tr>\n",
       "      <th>0</th>\n",
       "      <td>R00001</td>\n",
       "      <td>30</td>\n",
       "      <td>M</td>\n",
       "      <td>Urban</td>\n",
       "      <td>Working Professional</td>\n",
       "      <td>&lt;10L</td>\n",
       "      <td>3-4 times</td>\n",
       "      <td>Newcomer</td>\n",
       "      <td>Medium (500 ml)</td>\n",
       "      <td>0 to 1</td>\n",
       "      <td>Price</td>\n",
       "      <td>Traditional</td>\n",
       "      <td>Online</td>\n",
       "      <td>Simple</td>\n",
       "      <td>Medium (Moderately health-conscious)</td>\n",
       "      <td>Active (eg. Sports, gym)</td>\n",
       "      <td>100-150</td>\n",
       "    </tr>\n",
       "    <tr>\n",
       "      <th>1</th>\n",
       "      <td>R00002</td>\n",
       "      <td>46</td>\n",
       "      <td>F</td>\n",
       "      <td>Metro</td>\n",
       "      <td>Working Professional</td>\n",
       "      <td>&gt; 35L</td>\n",
       "      <td>5-7 times</td>\n",
       "      <td>Established</td>\n",
       "      <td>Medium (500 ml)</td>\n",
       "      <td>2 to 4</td>\n",
       "      <td>Quality</td>\n",
       "      <td>Exotic</td>\n",
       "      <td>Retail Store</td>\n",
       "      <td>Premium</td>\n",
       "      <td>Medium (Moderately health-conscious)</td>\n",
       "      <td>Social (eg. Parties)</td>\n",
       "      <td>200-250</td>\n",
       "    </tr>\n",
       "  </tbody>\n",
       "</table>\n",
       "</div>"
      ],
      "text/plain": [
       "  respondent_id  age gender   zone            occupation income_levels  \\\n",
       "0        R00001   30      M  Urban  Working Professional          <10L   \n",
       "1        R00002   46      F  Metro  Working Professional         > 35L   \n",
       "\n",
       "  consume_frequency(weekly) current_brand preferable_consumption_size  \\\n",
       "0                 3-4 times      Newcomer             Medium (500 ml)   \n",
       "1                 5-7 times   Established             Medium (500 ml)   \n",
       "\n",
       "  awareness_of_other_brands reasons_for_choosing_brands flavor_preference  \\\n",
       "0                    0 to 1                       Price       Traditional   \n",
       "1                    2 to 4                     Quality            Exotic   \n",
       "\n",
       "  purchase_channel packaging_preference                       health_concerns  \\\n",
       "0           Online               Simple  Medium (Moderately health-conscious)   \n",
       "1     Retail Store              Premium  Medium (Moderately health-conscious)   \n",
       "\n",
       "  typical_consumption_situations price_range  \n",
       "0       Active (eg. Sports, gym)     100-150  \n",
       "1           Social (eg. Parties)     200-250  "
      ]
     },
     "execution_count": 25,
     "metadata": {},
     "output_type": "execute_result"
    }
   ],
   "source": [
    "df.head(2)"
   ]
  },
  {
   "cell_type": "code",
   "execution_count": 26,
   "metadata": {
    "colab": {
     "base_uri": "https://localhost:8080/"
    },
    "id": "yumoH0pVyWSk",
    "outputId": "a54f0b06-68e7-4b41-fabd-e1d6aef10fd7"
   },
   "outputs": [
    {
     "data": {
      "text/plain": [
       "(29991, 17)"
      ]
     },
     "execution_count": 26,
     "metadata": {},
     "output_type": "execute_result"
    }
   ],
   "source": [
    "df.shape"
   ]
  },
  {
   "cell_type": "code",
   "execution_count": 27,
   "metadata": {
    "id": "SfisStRdLBD0"
   },
   "outputs": [],
   "source": [
    "# Define the function to categorize age into age groups\n",
    "def categorize_age(age):\n",
    "    if 18 <= age <= 25:\n",
    "        return \"18-25\"\n",
    "    elif 26 <= age <= 35:\n",
    "        return \"26-35\"\n",
    "    elif 36 <= age <= 45:\n",
    "        return \"36-45\"\n",
    "    elif 46 <= age <= 55:\n",
    "        return \"46-55\"\n",
    "    elif 56 <= age <= 70:\n",
    "        return \"56-70\"\n",
    "    else:\n",
    "        return \"70+\"\n",
    "\n",
    "# Apply the function to the 'age' column to create the 'age_group' column\n",
    "df['age_group'] = df['age'].apply(categorize_age)\n",
    "\n",
    "#remove age category\n",
    "df.drop('age', axis = 1, inplace = True)"
   ]
  },
  {
   "cell_type": "markdown",
   "metadata": {
    "id": "tT3wNN-YLBD3"
   },
   "source": [
    "### Add Derived Columns"
   ]
  },
  {
   "cell_type": "code",
   "execution_count": 28,
   "metadata": {},
   "outputs": [],
   "source": [
    "\n",
    "# i) cf_ab_score (consume_frequency and awareness_of_other_brands score)\n",
    "def calcuate_cf_ab_score(row):\n",
    "    comsume_frequency_map = {'0-2 times': 1, '3-4 times': 2, '5-7 times': 3}\n",
    "    awareness_brands_map = {'0 to 1': 1, '2 to 4': 2, 'above 4': 3}\n",
    "\n",
    "    #get the required col\n",
    "    freq = row['consume_frequency(weekly)']\n",
    "    awareness = row['awareness_of_other_brands']\n",
    "\n",
    "    #maping\n",
    "    freq_num = comsume_frequency_map[freq]\n",
    "    awareness_num = awareness_brands_map[awareness]\n",
    "\n",
    "    cf_ab_score = freq_num / (awareness_num + freq_num)\n",
    "\n",
    "    return round(cf_ab_score, 2)\n",
    "\n",
    "df['cf_ab_score'] = df.apply(lambda row: calcuate_cf_ab_score(row), axis = 1)\n",
    "\n",
    "\n",
    "\n",
    "# ii) Zone Affluence Score (ZAS):\n",
    "def calculate_zas(row):\n",
    "    # Sample mapping for zone and income levels\n",
    "    zone_map = {'Urban': 3, 'Metro': 4, 'Rural': 1, 'Semi-Urban': 2}\n",
    "    income_map = {'<10L': 1, '10L - 15L': 2, '16L - 25L': 3, '26L - 35L': 4, '> 35L': 5, 'Not Reported': 0 }\n",
    "    \n",
    "    # Get the values for zone and income\n",
    "    zone = row['zone']\n",
    "    income = row['income_levels']\n",
    "\n",
    "    # Map the zone and income to respective scores\n",
    "    zone_score = zone_map.get(zone, 0)  # Default to 0 if not found\n",
    "    income_score = income_map.get(income, 0)  # Default to 0 if not found\n",
    "\n",
    "    # Calculate the Zone Affluence Score\n",
    "    zas = zone_score * income_score\n",
    "\n",
    "    return zas\n",
    "# Apply the function to calculate ZAS for each row\n",
    "df['zas_score'] = df.apply(calculate_zas, axis=1)\n",
    "\n",
    "\n",
    "# bsi (Brand switch indicator)\n",
    "df['bsi'] = df.apply(lambda row: 1 if row['current_brand'] != 'Established' and row['reasons_for_choosing_brands'] in ['Price', 'Quality'] else 0, axis=1)"
   ]
  },
  {
   "cell_type": "markdown",
   "metadata": {},
   "source": [
    "**Removing Logical Outliers**"
   ]
  },
  {
   "cell_type": "code",
   "execution_count": 29,
   "metadata": {},
   "outputs": [
    {
     "data": {
      "text/html": [
       "<div>\n",
       "<style scoped>\n",
       "    .dataframe tbody tr th:only-of-type {\n",
       "        vertical-align: middle;\n",
       "    }\n",
       "\n",
       "    .dataframe tbody tr th {\n",
       "        vertical-align: top;\n",
       "    }\n",
       "\n",
       "    .dataframe thead th {\n",
       "        text-align: right;\n",
       "    }\n",
       "</style>\n",
       "<table border=\"1\" class=\"dataframe\">\n",
       "  <thead>\n",
       "    <tr style=\"text-align: right;\">\n",
       "      <th>occupation</th>\n",
       "      <th>Entrepreneur</th>\n",
       "      <th>Retired</th>\n",
       "      <th>Student</th>\n",
       "      <th>Working Professional</th>\n",
       "    </tr>\n",
       "    <tr>\n",
       "      <th>age_group</th>\n",
       "      <th></th>\n",
       "      <th></th>\n",
       "      <th></th>\n",
       "      <th></th>\n",
       "    </tr>\n",
       "  </thead>\n",
       "  <tbody>\n",
       "    <tr>\n",
       "      <th>18-25</th>\n",
       "      <td>535</td>\n",
       "      <td>0</td>\n",
       "      <td>7328</td>\n",
       "      <td>2605</td>\n",
       "    </tr>\n",
       "    <tr>\n",
       "      <th>26-35</th>\n",
       "      <td>1826</td>\n",
       "      <td>0</td>\n",
       "      <td>697</td>\n",
       "      <td>6570</td>\n",
       "    </tr>\n",
       "    <tr>\n",
       "      <th>36-45</th>\n",
       "      <td>1619</td>\n",
       "      <td>0</td>\n",
       "      <td>0</td>\n",
       "      <td>4353</td>\n",
       "    </tr>\n",
       "    <tr>\n",
       "      <th>46-55</th>\n",
       "      <td>799</td>\n",
       "      <td>0</td>\n",
       "      <td>0</td>\n",
       "      <td>2167</td>\n",
       "    </tr>\n",
       "    <tr>\n",
       "      <th>56-70</th>\n",
       "      <td>221</td>\n",
       "      <td>1130</td>\n",
       "      <td>35</td>\n",
       "      <td>106</td>\n",
       "    </tr>\n",
       "  </tbody>\n",
       "</table>\n",
       "</div>"
      ],
      "text/plain": [
       "occupation  Entrepreneur  Retired  Student  Working Professional\n",
       "age_group                                                       \n",
       "18-25                535        0     7328                  2605\n",
       "26-35               1826        0      697                  6570\n",
       "36-45               1619        0        0                  4353\n",
       "46-55                799        0        0                  2167\n",
       "56-70                221     1130       35                   106"
      ]
     },
     "execution_count": 29,
     "metadata": {},
     "output_type": "execute_result"
    }
   ],
   "source": [
    "# Cross-tabulation of age_group and occupation\n",
    "crosstab = pd.crosstab(df['age_group'], df['occupation'])\n",
    "crosstab"
   ]
  },
  {
   "cell_type": "markdown",
   "metadata": {},
   "source": [
    "- If you observe carefully, from the above data, We have students in the age group of `56-70` which is not possible. This happen due to wrong entry. We need to remove them"
   ]
  },
  {
   "cell_type": "code",
   "execution_count": 30,
   "metadata": {},
   "outputs": [
    {
     "name": "stdout",
     "output_type": "stream",
     "text": [
      "Number of rows before removing students category in age group 56-70:  (29991, 20)\n"
     ]
    }
   ],
   "source": [
    "print(\"Number of rows before removing students category in age group 56-70: \", df.shape)"
   ]
  },
  {
   "cell_type": "code",
   "execution_count": 31,
   "metadata": {},
   "outputs": [
    {
     "name": "stdout",
     "output_type": "stream",
     "text": [
      "Number of rows after removing students category in age group 56-70:  (29956, 20)\n"
     ]
    }
   ],
   "source": [
    "df = df[~((df['age_group'] == '56-70') & (df['occupation'] == 'Student'))]\n",
    "\n",
    "print(\"Number of rows after removing students category in age group 56-70: \", df.shape)"
   ]
  },
  {
   "cell_type": "markdown",
   "metadata": {
    "id": "swMHypvsLBD5"
   },
   "source": [
    "#### Final dataframe"
   ]
  },
  {
   "cell_type": "code",
   "execution_count": 32,
   "metadata": {
    "colab": {
     "base_uri": "https://localhost:8080/",
     "height": 382
    },
    "id": "ARg-m1ceLBD5",
    "outputId": "414a83fa-61f1-4294-db0f-d41409173ff2"
   },
   "outputs": [
    {
     "data": {
      "text/html": [
       "<div>\n",
       "<style scoped>\n",
       "    .dataframe tbody tr th:only-of-type {\n",
       "        vertical-align: middle;\n",
       "    }\n",
       "\n",
       "    .dataframe tbody tr th {\n",
       "        vertical-align: top;\n",
       "    }\n",
       "\n",
       "    .dataframe thead th {\n",
       "        text-align: right;\n",
       "    }\n",
       "</style>\n",
       "<table border=\"1\" class=\"dataframe\">\n",
       "  <thead>\n",
       "    <tr style=\"text-align: right;\">\n",
       "      <th></th>\n",
       "      <th>respondent_id</th>\n",
       "      <th>gender</th>\n",
       "      <th>zone</th>\n",
       "      <th>occupation</th>\n",
       "      <th>income_levels</th>\n",
       "      <th>consume_frequency(weekly)</th>\n",
       "      <th>current_brand</th>\n",
       "      <th>preferable_consumption_size</th>\n",
       "      <th>awareness_of_other_brands</th>\n",
       "      <th>reasons_for_choosing_brands</th>\n",
       "      <th>flavor_preference</th>\n",
       "      <th>purchase_channel</th>\n",
       "      <th>packaging_preference</th>\n",
       "      <th>health_concerns</th>\n",
       "      <th>typical_consumption_situations</th>\n",
       "      <th>price_range</th>\n",
       "      <th>age_group</th>\n",
       "      <th>cf_ab_score</th>\n",
       "      <th>zas_score</th>\n",
       "      <th>bsi</th>\n",
       "    </tr>\n",
       "  </thead>\n",
       "  <tbody>\n",
       "    <tr>\n",
       "      <th>0</th>\n",
       "      <td>R00001</td>\n",
       "      <td>M</td>\n",
       "      <td>Urban</td>\n",
       "      <td>Working Professional</td>\n",
       "      <td>&lt;10L</td>\n",
       "      <td>3-4 times</td>\n",
       "      <td>Newcomer</td>\n",
       "      <td>Medium (500 ml)</td>\n",
       "      <td>0 to 1</td>\n",
       "      <td>Price</td>\n",
       "      <td>Traditional</td>\n",
       "      <td>Online</td>\n",
       "      <td>Simple</td>\n",
       "      <td>Medium (Moderately health-conscious)</td>\n",
       "      <td>Active (eg. Sports, gym)</td>\n",
       "      <td>100-150</td>\n",
       "      <td>26-35</td>\n",
       "      <td>0.67</td>\n",
       "      <td>3</td>\n",
       "      <td>1</td>\n",
       "    </tr>\n",
       "    <tr>\n",
       "      <th>1</th>\n",
       "      <td>R00002</td>\n",
       "      <td>F</td>\n",
       "      <td>Metro</td>\n",
       "      <td>Working Professional</td>\n",
       "      <td>&gt; 35L</td>\n",
       "      <td>5-7 times</td>\n",
       "      <td>Established</td>\n",
       "      <td>Medium (500 ml)</td>\n",
       "      <td>2 to 4</td>\n",
       "      <td>Quality</td>\n",
       "      <td>Exotic</td>\n",
       "      <td>Retail Store</td>\n",
       "      <td>Premium</td>\n",
       "      <td>Medium (Moderately health-conscious)</td>\n",
       "      <td>Social (eg. Parties)</td>\n",
       "      <td>200-250</td>\n",
       "      <td>46-55</td>\n",
       "      <td>0.60</td>\n",
       "      <td>20</td>\n",
       "      <td>0</td>\n",
       "    </tr>\n",
       "  </tbody>\n",
       "</table>\n",
       "</div>"
      ],
      "text/plain": [
       "  respondent_id gender   zone            occupation income_levels  \\\n",
       "0        R00001      M  Urban  Working Professional          <10L   \n",
       "1        R00002      F  Metro  Working Professional         > 35L   \n",
       "\n",
       "  consume_frequency(weekly) current_brand preferable_consumption_size  \\\n",
       "0                 3-4 times      Newcomer             Medium (500 ml)   \n",
       "1                 5-7 times   Established             Medium (500 ml)   \n",
       "\n",
       "  awareness_of_other_brands reasons_for_choosing_brands flavor_preference  \\\n",
       "0                    0 to 1                       Price       Traditional   \n",
       "1                    2 to 4                     Quality            Exotic   \n",
       "\n",
       "  purchase_channel packaging_preference                       health_concerns  \\\n",
       "0           Online               Simple  Medium (Moderately health-conscious)   \n",
       "1     Retail Store              Premium  Medium (Moderately health-conscious)   \n",
       "\n",
       "  typical_consumption_situations price_range age_group  cf_ab_score  \\\n",
       "0       Active (eg. Sports, gym)     100-150     26-35         0.67   \n",
       "1           Social (eg. Parties)     200-250     46-55         0.60   \n",
       "\n",
       "   zas_score  bsi  \n",
       "0          3    1  \n",
       "1         20    0  "
      ]
     },
     "execution_count": 32,
     "metadata": {},
     "output_type": "execute_result"
    }
   ],
   "source": [
    "df.head(2)"
   ]
  },
  {
   "cell_type": "markdown",
   "metadata": {
    "id": "mqppzOKraViq",
    "outputId": "951027b9-e218-404e-e442-10acd754f6f6"
   },
   "source": [
    "### Modelling"
   ]
  },
  {
   "cell_type": "code",
   "execution_count": 33,
   "metadata": {
    "colab": {
     "base_uri": "https://localhost:8080/"
    },
    "id": "QQWu9__hLBD5",
    "outputId": "4014e9e1-899a-4f14-c836-7a0eac55b59e"
   },
   "outputs": [
    {
     "data": {
      "text/plain": [
       "Index(['respondent_id', 'gender', 'zone', 'occupation', 'income_levels',\n",
       "       'consume_frequency(weekly)', 'current_brand',\n",
       "       'preferable_consumption_size', 'awareness_of_other_brands',\n",
       "       'reasons_for_choosing_brands', 'flavor_preference', 'purchase_channel',\n",
       "       'packaging_preference', 'health_concerns',\n",
       "       'typical_consumption_situations', 'price_range', 'age_group',\n",
       "       'cf_ab_score', 'zas_score', 'bsi'],\n",
       "      dtype='object')"
      ]
     },
     "execution_count": 33,
     "metadata": {},
     "output_type": "execute_result"
    }
   ],
   "source": [
    "df.columns"
   ]
  },
  {
   "cell_type": "code",
   "execution_count": 34,
   "metadata": {
    "id": "h3rtHf65LBD6"
   },
   "outputs": [],
   "source": [
    "# Define features and target variable\n",
    "X = df.drop([\"respondent_id\", \"price_range\"], axis=\"columns\")\n",
    "y = df['price_range']"
   ]
  },
  {
   "cell_type": "markdown",
   "metadata": {
    "id": "l9bL_RCdLBD6"
   },
   "source": [
    "**Train and Test split**"
   ]
  },
  {
   "cell_type": "code",
   "execution_count": 35,
   "metadata": {
    "id": "mwmtm6D4LBD6"
   },
   "outputs": [],
   "source": [
    "X_train, X_test, y_train, y_test = train_test_split(X, y, stratify=y, test_size=0.25, random_state=42)"
   ]
  },
  {
   "cell_type": "code",
   "execution_count": 36,
   "metadata": {
    "colab": {
     "base_uri": "https://localhost:8080/"
    },
    "id": "uMLr5FFHLBD7",
    "outputId": "6d4c4ff2-73c9-40c6-ec0a-d462344b20bb"
   },
   "outputs": [
    {
     "name": "stdout",
     "output_type": "stream",
     "text": [
      "X_train:  (22467, 18)\n",
      "X_test:  (7489, 18)\n"
     ]
    }
   ],
   "source": [
    "print(\"X_train: \", X_train.shape)\n",
    "print(\"X_test: \", X_test.shape)"
   ]
  },
  {
   "cell_type": "markdown",
   "metadata": {},
   "source": [
    "### Encoding the data"
   ]
  },
  {
   "cell_type": "markdown",
   "metadata": {},
   "source": [
    "- one hot encoding"
   ]
  },
  {
   "cell_type": "code",
   "execution_count": 37,
   "metadata": {},
   "outputs": [],
   "source": [
    "# get the col names\n",
    "one_hot_columns = [\n",
    "    'gender', 'zone', 'occupation', 'current_brand', 'awareness_of_other_brands',\n",
    "    'reasons_for_choosing_brands', 'flavor_preference', 'purchase_channel',\n",
    "    'packaging_preference', 'typical_consumption_situations'\n",
    "]\n",
    "\n",
    "# Apply OHE to training data\n",
    "X_train_processed = pd.get_dummies(X_train, columns=one_hot_columns, drop_first=True)\n",
    "\n",
    "# Apply OHE to test data\n",
    "X_test_processed = pd.get_dummies(X_test, columns=one_hot_columns, drop_first=True)\n",
    "\n",
    "# Align columns in the test DataFrame to match the training DataFrame: Sanity Check\n",
    "missing_cols = set(X_train_processed.columns) - set(X_test_processed.columns)\n",
    "for col in missing_cols:\n",
    "    X_test_processed[col] = 0  # Add missing columns with default value 0"
   ]
  },
  {
   "cell_type": "markdown",
   "metadata": {},
   "source": [
    "- Label Encoding"
   ]
  },
  {
   "cell_type": "code",
   "execution_count": 38,
   "metadata": {},
   "outputs": [],
   "source": [
    "# Apply Label Encoding to specified columns\n",
    "label_encoded_columns = ['age_group', 'income_levels', 'health_concerns', 'consume_frequency(weekly)', 'preferable_consumption_size']\n",
    "label_encoders = {}\n",
    "\n",
    "# Label encoding Train data\n",
    "for col in label_encoded_columns:\n",
    "    if col in X_train.columns:\n",
    "        label_encoder = LabelEncoder()\n",
    "        X_train_processed[col] = label_encoder.fit_transform(X_train[col])\n",
    "        label_encoders[col] = label_encoder  # Store encoder for future use\n",
    "\n",
    "\n",
    "# Apply the same Label Encoding to test data\n",
    "for col in label_encoded_columns:\n",
    "    if col in X_test_processed.columns and col in label_encoders:\n",
    "        X_test_processed[col] = label_encoders[col].transform(X_test[col])"
   ]
  },
  {
   "cell_type": "markdown",
   "metadata": {},
   "source": [
    "- Encode Target Variable"
   ]
  },
  {
   "cell_type": "code",
   "execution_count": 39,
   "metadata": {},
   "outputs": [],
   "source": [
    "# Encode target variable\n",
    "label_encoder_y = LabelEncoder()\n",
    "y_train_encoded = label_encoder_y.fit_transform(y_train)\n",
    "y_test_encoded = label_encoder_y.transform(y_test)"
   ]
  },
  {
   "cell_type": "markdown",
   "metadata": {},
   "source": [
    "- Sample rows"
   ]
  },
  {
   "cell_type": "code",
   "execution_count": 40,
   "metadata": {},
   "outputs": [
    {
     "name": "stdout",
     "output_type": "stream",
     "text": [
      "(22467, 27)\n"
     ]
    },
    {
     "data": {
      "text/html": [
       "<div>\n",
       "<style scoped>\n",
       "    .dataframe tbody tr th:only-of-type {\n",
       "        vertical-align: middle;\n",
       "    }\n",
       "\n",
       "    .dataframe tbody tr th {\n",
       "        vertical-align: top;\n",
       "    }\n",
       "\n",
       "    .dataframe thead th {\n",
       "        text-align: right;\n",
       "    }\n",
       "</style>\n",
       "<table border=\"1\" class=\"dataframe\">\n",
       "  <thead>\n",
       "    <tr style=\"text-align: right;\">\n",
       "      <th></th>\n",
       "      <th>income_levels</th>\n",
       "      <th>consume_frequency(weekly)</th>\n",
       "      <th>preferable_consumption_size</th>\n",
       "      <th>health_concerns</th>\n",
       "      <th>age_group</th>\n",
       "      <th>cf_ab_score</th>\n",
       "      <th>zas_score</th>\n",
       "      <th>bsi</th>\n",
       "      <th>gender_M</th>\n",
       "      <th>zone_Rural</th>\n",
       "      <th>zone_Semi-Urban</th>\n",
       "      <th>zone_Urban</th>\n",
       "      <th>occupation_Retired</th>\n",
       "      <th>occupation_Student</th>\n",
       "      <th>occupation_Working Professional</th>\n",
       "      <th>current_brand_Newcomer</th>\n",
       "      <th>awareness_of_other_brands_2 to 4</th>\n",
       "      <th>awareness_of_other_brands_above 4</th>\n",
       "      <th>reasons_for_choosing_brands_Brand Reputation</th>\n",
       "      <th>reasons_for_choosing_brands_Price</th>\n",
       "      <th>reasons_for_choosing_brands_Quality</th>\n",
       "      <th>flavor_preference_Traditional</th>\n",
       "      <th>purchase_channel_Retail Store</th>\n",
       "      <th>packaging_preference_Premium</th>\n",
       "      <th>packaging_preference_Simple</th>\n",
       "      <th>typical_consumption_situations_Casual (eg. At home)</th>\n",
       "      <th>typical_consumption_situations_Social (eg. Parties)</th>\n",
       "    </tr>\n",
       "  </thead>\n",
       "  <tbody>\n",
       "    <tr>\n",
       "      <th>11016</th>\n",
       "      <td>3</td>\n",
       "      <td>2</td>\n",
       "      <td>2</td>\n",
       "      <td>0</td>\n",
       "      <td>1</td>\n",
       "      <td>0.50</td>\n",
       "      <td>3</td>\n",
       "      <td>1</td>\n",
       "      <td>True</td>\n",
       "      <td>False</td>\n",
       "      <td>False</td>\n",
       "      <td>True</td>\n",
       "      <td>False</td>\n",
       "      <td>False</td>\n",
       "      <td>True</td>\n",
       "      <td>True</td>\n",
       "      <td>False</td>\n",
       "      <td>True</td>\n",
       "      <td>False</td>\n",
       "      <td>True</td>\n",
       "      <td>False</td>\n",
       "      <td>True</td>\n",
       "      <td>False</td>\n",
       "      <td>False</td>\n",
       "      <td>True</td>\n",
       "      <td>False</td>\n",
       "      <td>True</td>\n",
       "    </tr>\n",
       "    <tr>\n",
       "      <th>25446</th>\n",
       "      <td>1</td>\n",
       "      <td>0</td>\n",
       "      <td>1</td>\n",
       "      <td>2</td>\n",
       "      <td>3</td>\n",
       "      <td>0.25</td>\n",
       "      <td>12</td>\n",
       "      <td>0</td>\n",
       "      <td>True</td>\n",
       "      <td>False</td>\n",
       "      <td>False</td>\n",
       "      <td>False</td>\n",
       "      <td>False</td>\n",
       "      <td>False</td>\n",
       "      <td>True</td>\n",
       "      <td>True</td>\n",
       "      <td>False</td>\n",
       "      <td>True</td>\n",
       "      <td>False</td>\n",
       "      <td>False</td>\n",
       "      <td>False</td>\n",
       "      <td>False</td>\n",
       "      <td>True</td>\n",
       "      <td>False</td>\n",
       "      <td>False</td>\n",
       "      <td>False</td>\n",
       "      <td>True</td>\n",
       "    </tr>\n",
       "  </tbody>\n",
       "</table>\n",
       "</div>"
      ],
      "text/plain": [
       "       income_levels  consume_frequency(weekly)  preferable_consumption_size  \\\n",
       "11016              3                          2                            2   \n",
       "25446              1                          0                            1   \n",
       "\n",
       "       health_concerns  age_group  cf_ab_score  zas_score  bsi  gender_M  \\\n",
       "11016                0          1         0.50          3    1      True   \n",
       "25446                2          3         0.25         12    0      True   \n",
       "\n",
       "       zone_Rural  zone_Semi-Urban  zone_Urban  occupation_Retired  \\\n",
       "11016       False            False        True               False   \n",
       "25446       False            False       False               False   \n",
       "\n",
       "       occupation_Student  occupation_Working Professional  \\\n",
       "11016               False                             True   \n",
       "25446               False                             True   \n",
       "\n",
       "       current_brand_Newcomer  awareness_of_other_brands_2 to 4  \\\n",
       "11016                    True                             False   \n",
       "25446                    True                             False   \n",
       "\n",
       "       awareness_of_other_brands_above 4  \\\n",
       "11016                               True   \n",
       "25446                               True   \n",
       "\n",
       "       reasons_for_choosing_brands_Brand Reputation  \\\n",
       "11016                                         False   \n",
       "25446                                         False   \n",
       "\n",
       "       reasons_for_choosing_brands_Price  reasons_for_choosing_brands_Quality  \\\n",
       "11016                               True                                False   \n",
       "25446                              False                                False   \n",
       "\n",
       "       flavor_preference_Traditional  purchase_channel_Retail Store  \\\n",
       "11016                           True                          False   \n",
       "25446                          False                           True   \n",
       "\n",
       "       packaging_preference_Premium  packaging_preference_Simple  \\\n",
       "11016                         False                         True   \n",
       "25446                         False                        False   \n",
       "\n",
       "       typical_consumption_situations_Casual (eg. At home)  \\\n",
       "11016                                              False     \n",
       "25446                                              False     \n",
       "\n",
       "       typical_consumption_situations_Social (eg. Parties)  \n",
       "11016                                               True    \n",
       "25446                                               True    "
      ]
     },
     "execution_count": 40,
     "metadata": {},
     "output_type": "execute_result"
    }
   ],
   "source": [
    "print(X_train_processed.shape)\n",
    "X_train_processed.head(2)"
   ]
  },
  {
   "cell_type": "code",
   "execution_count": 41,
   "metadata": {},
   "outputs": [
    {
     "name": "stdout",
     "output_type": "stream",
     "text": [
      "(7489, 27)\n"
     ]
    },
    {
     "data": {
      "text/html": [
       "<div>\n",
       "<style scoped>\n",
       "    .dataframe tbody tr th:only-of-type {\n",
       "        vertical-align: middle;\n",
       "    }\n",
       "\n",
       "    .dataframe tbody tr th {\n",
       "        vertical-align: top;\n",
       "    }\n",
       "\n",
       "    .dataframe thead th {\n",
       "        text-align: right;\n",
       "    }\n",
       "</style>\n",
       "<table border=\"1\" class=\"dataframe\">\n",
       "  <thead>\n",
       "    <tr style=\"text-align: right;\">\n",
       "      <th></th>\n",
       "      <th>income_levels</th>\n",
       "      <th>consume_frequency(weekly)</th>\n",
       "      <th>preferable_consumption_size</th>\n",
       "      <th>health_concerns</th>\n",
       "      <th>age_group</th>\n",
       "      <th>cf_ab_score</th>\n",
       "      <th>zas_score</th>\n",
       "      <th>bsi</th>\n",
       "      <th>gender_M</th>\n",
       "      <th>zone_Rural</th>\n",
       "      <th>zone_Semi-Urban</th>\n",
       "      <th>zone_Urban</th>\n",
       "      <th>occupation_Retired</th>\n",
       "      <th>occupation_Student</th>\n",
       "      <th>occupation_Working Professional</th>\n",
       "      <th>current_brand_Newcomer</th>\n",
       "      <th>awareness_of_other_brands_2 to 4</th>\n",
       "      <th>awareness_of_other_brands_above 4</th>\n",
       "      <th>reasons_for_choosing_brands_Brand Reputation</th>\n",
       "      <th>reasons_for_choosing_brands_Price</th>\n",
       "      <th>reasons_for_choosing_brands_Quality</th>\n",
       "      <th>flavor_preference_Traditional</th>\n",
       "      <th>purchase_channel_Retail Store</th>\n",
       "      <th>packaging_preference_Premium</th>\n",
       "      <th>packaging_preference_Simple</th>\n",
       "      <th>typical_consumption_situations_Casual (eg. At home)</th>\n",
       "      <th>typical_consumption_situations_Social (eg. Parties)</th>\n",
       "    </tr>\n",
       "  </thead>\n",
       "  <tbody>\n",
       "    <tr>\n",
       "      <th>28481</th>\n",
       "      <td>5</td>\n",
       "      <td>0</td>\n",
       "      <td>0</td>\n",
       "      <td>0</td>\n",
       "      <td>0</td>\n",
       "      <td>0.50</td>\n",
       "      <td>0</td>\n",
       "      <td>0</td>\n",
       "      <td>False</td>\n",
       "      <td>False</td>\n",
       "      <td>False</td>\n",
       "      <td>False</td>\n",
       "      <td>False</td>\n",
       "      <td>True</td>\n",
       "      <td>False</td>\n",
       "      <td>False</td>\n",
       "      <td>False</td>\n",
       "      <td>False</td>\n",
       "      <td>False</td>\n",
       "      <td>True</td>\n",
       "      <td>False</td>\n",
       "      <td>True</td>\n",
       "      <td>False</td>\n",
       "      <td>False</td>\n",
       "      <td>False</td>\n",
       "      <td>True</td>\n",
       "      <td>False</td>\n",
       "    </tr>\n",
       "    <tr>\n",
       "      <th>3616</th>\n",
       "      <td>3</td>\n",
       "      <td>1</td>\n",
       "      <td>2</td>\n",
       "      <td>1</td>\n",
       "      <td>1</td>\n",
       "      <td>0.67</td>\n",
       "      <td>2</td>\n",
       "      <td>1</td>\n",
       "      <td>False</td>\n",
       "      <td>False</td>\n",
       "      <td>True</td>\n",
       "      <td>False</td>\n",
       "      <td>False</td>\n",
       "      <td>False</td>\n",
       "      <td>True</td>\n",
       "      <td>True</td>\n",
       "      <td>False</td>\n",
       "      <td>False</td>\n",
       "      <td>False</td>\n",
       "      <td>True</td>\n",
       "      <td>False</td>\n",
       "      <td>True</td>\n",
       "      <td>False</td>\n",
       "      <td>True</td>\n",
       "      <td>False</td>\n",
       "      <td>True</td>\n",
       "      <td>False</td>\n",
       "    </tr>\n",
       "  </tbody>\n",
       "</table>\n",
       "</div>"
      ],
      "text/plain": [
       "       income_levels  consume_frequency(weekly)  preferable_consumption_size  \\\n",
       "28481              5                          0                            0   \n",
       "3616               3                          1                            2   \n",
       "\n",
       "       health_concerns  age_group  cf_ab_score  zas_score  bsi  gender_M  \\\n",
       "28481                0          0         0.50          0    0     False   \n",
       "3616                 1          1         0.67          2    1     False   \n",
       "\n",
       "       zone_Rural  zone_Semi-Urban  zone_Urban  occupation_Retired  \\\n",
       "28481       False            False       False               False   \n",
       "3616        False             True       False               False   \n",
       "\n",
       "       occupation_Student  occupation_Working Professional  \\\n",
       "28481                True                            False   \n",
       "3616                False                             True   \n",
       "\n",
       "       current_brand_Newcomer  awareness_of_other_brands_2 to 4  \\\n",
       "28481                   False                             False   \n",
       "3616                     True                             False   \n",
       "\n",
       "       awareness_of_other_brands_above 4  \\\n",
       "28481                              False   \n",
       "3616                               False   \n",
       "\n",
       "       reasons_for_choosing_brands_Brand Reputation  \\\n",
       "28481                                         False   \n",
       "3616                                          False   \n",
       "\n",
       "       reasons_for_choosing_brands_Price  reasons_for_choosing_brands_Quality  \\\n",
       "28481                               True                                False   \n",
       "3616                                True                                False   \n",
       "\n",
       "       flavor_preference_Traditional  purchase_channel_Retail Store  \\\n",
       "28481                           True                          False   \n",
       "3616                            True                          False   \n",
       "\n",
       "       packaging_preference_Premium  packaging_preference_Simple  \\\n",
       "28481                         False                        False   \n",
       "3616                           True                        False   \n",
       "\n",
       "       typical_consumption_situations_Casual (eg. At home)  \\\n",
       "28481                                               True     \n",
       "3616                                                True     \n",
       "\n",
       "       typical_consumption_situations_Social (eg. Parties)  \n",
       "28481                                              False    \n",
       "3616                                               False    "
      ]
     },
     "execution_count": 41,
     "metadata": {},
     "output_type": "execute_result"
    }
   ],
   "source": [
    "print(X_test_processed.shape)\n",
    "X_test_processed.head(2)"
   ]
  },
  {
   "cell_type": "markdown",
   "metadata": {
    "id": "y_nEXTU5LBEB"
   },
   "source": [
    "### Train the model"
   ]
  },
  {
   "cell_type": "markdown",
   "metadata": {},
   "source": [
    "- **Gaussian Naive Bayes**"
   ]
  },
  {
   "cell_type": "code",
   "execution_count": 42,
   "metadata": {},
   "outputs": [
    {
     "name": "stdout",
     "output_type": "stream",
     "text": [
      "Accuracy Score: 0.559887835492055\n",
      "\n",
      "Classification Report:\n",
      "               precision    recall  f1-score   support\n",
      "\n",
      "     100-150       0.49      0.30      0.37      1948\n",
      "     150-200       0.54      0.29      0.38      2199\n",
      "     200-250       0.66      0.89      0.76      2428\n",
      "      50-100       0.44      0.89      0.59       914\n",
      "\n",
      "    accuracy                           0.56      7489\n",
      "   macro avg       0.53      0.59      0.52      7489\n",
      "weighted avg       0.55      0.56      0.52      7489\n",
      "\n"
     ]
    }
   ],
   "source": [
    "from sklearn.naive_bayes import GaussianNB\n",
    "from sklearn.metrics import accuracy_score, classification_report\n",
    "\n",
    "# Initialize and train the Naive Bayes model\n",
    "model = GaussianNB()\n",
    "model.fit(X_train_processed, y_train_encoded)\n",
    "\n",
    "# Predict on the test set\n",
    "y_pred = model.predict(X_test_processed)\n",
    "\n",
    "# Evaluate the model\n",
    "print(\"Accuracy Score:\", accuracy_score(y_test_encoded, y_pred))\n",
    "print(\"\\nClassification Report:\\n\", classification_report(y_test_encoded, y_pred, target_names=label_encoder_y.classes_))\n",
    "\n",
    "gaussian_params = model.get_params()"
   ]
  },
  {
   "cell_type": "markdown",
   "metadata": {
    "id": "t5_hfE56LBEE"
   },
   "source": [
    "- **Logistic Regression**"
   ]
  },
  {
   "cell_type": "code",
   "execution_count": 43,
   "metadata": {
    "colab": {
     "base_uri": "https://localhost:8080/"
    },
    "id": "InsissS7LBEF",
    "outputId": "997180b8-fe05-4ee0-b25f-93ca32017ad9"
   },
   "outputs": [
    {
     "name": "stdout",
     "output_type": "stream",
     "text": [
      "Accuracy Score: 0.8043797569768995\n",
      "\n",
      "Classification Report:\n",
      "               precision    recall  f1-score   support\n",
      "\n",
      "     100-150       0.74      0.77      0.76      1948\n",
      "     150-200       0.75      0.76      0.76      2199\n",
      "     200-250       0.90      0.89      0.90      2428\n",
      "      50-100       0.81      0.74      0.77       914\n",
      "\n",
      "    accuracy                           0.80      7489\n",
      "   macro avg       0.80      0.79      0.80      7489\n",
      "weighted avg       0.81      0.80      0.80      7489\n",
      "\n"
     ]
    }
   ],
   "source": [
    "# Initialize and train the Logistic Regression\n",
    "\n",
    "from sklearn.linear_model import LogisticRegression\n",
    "\n",
    "model = LogisticRegression(random_state=42)\n",
    "model.fit(X_train_processed, y_train_encoded)\n",
    "\n",
    "# Predict on the test set\n",
    "y_pred = model.predict(X_test_processed)\n",
    "\n",
    "# Evaluate the model\n",
    "print(\"Accuracy Score:\", accuracy_score(y_test_encoded, y_pred))\n",
    "print(\"\\nClassification Report:\\n\", classification_report(y_test_encoded, y_pred, target_names=label_encoder_y.classes_))\n",
    "\n",
    "logreg_params = model.get_params()"
   ]
  },
  {
   "cell_type": "markdown",
   "metadata": {},
   "source": [
    "- **SVM**"
   ]
  },
  {
   "cell_type": "code",
   "execution_count": 44,
   "metadata": {},
   "outputs": [
    {
     "name": "stdout",
     "output_type": "stream",
     "text": [
      "SVM Accuracy Score: 0.8260114835091468\n",
      "\n",
      "SVM Classification Report:\n",
      "               precision    recall  f1-score   support\n",
      "\n",
      "     100-150       0.77      0.79      0.78      1948\n",
      "     150-200       0.78      0.80      0.79      2199\n",
      "     200-250       0.92      0.91      0.91      2428\n",
      "      50-100       0.84      0.75      0.79       914\n",
      "\n",
      "    accuracy                           0.83      7489\n",
      "   macro avg       0.83      0.81      0.82      7489\n",
      "weighted avg       0.83      0.83      0.83      7489\n",
      "\n"
     ]
    }
   ],
   "source": [
    "from sklearn.svm import SVC\n",
    "from sklearn.metrics import accuracy_score, classification_report\n",
    "\n",
    "# Initialize and train the SVM model (with 'rbf' kernel by default)\n",
    "svm_model = SVC(random_state=42)\n",
    "svm_model.fit(X_train_processed, y_train_encoded)\n",
    "\n",
    "# Predict on the test set\n",
    "y_pred_svm = svm_model.predict(X_test_processed)\n",
    "\n",
    "# Evaluate the SVM model\n",
    "print(\"SVM Accuracy Score:\", accuracy_score(y_test_encoded, y_pred_svm))\n",
    "print(\"\\nSVM Classification Report:\\n\", classification_report(y_test_encoded, y_pred_svm, target_names=label_encoder_y.classes_))\n",
    "\n",
    "svm_params = svm_model.get_params()"
   ]
  },
  {
   "cell_type": "markdown",
   "metadata": {
    "id": "NJZHozApLBEB"
   },
   "source": [
    "- **Random Forest**"
   ]
  },
  {
   "cell_type": "code",
   "execution_count": 45,
   "metadata": {
    "colab": {
     "base_uri": "https://localhost:8080/"
    },
    "id": "A-gPN3U5LBEB",
    "outputId": "0618e4c9-3a34-49c4-b4d6-0161f21b9c43"
   },
   "outputs": [
    {
     "name": "stdout",
     "output_type": "stream",
     "text": [
      "Accuracy Score: 0.8963813593270129\n",
      "\n",
      "Classification Report:\n",
      "               precision    recall  f1-score   support\n",
      "\n",
      "     100-150       0.89      0.88      0.88      1948\n",
      "     150-200       0.84      0.89      0.86      2199\n",
      "     200-250       0.94      0.92      0.93      2428\n",
      "      50-100       0.93      0.89      0.91       914\n",
      "\n",
      "    accuracy                           0.90      7489\n",
      "   macro avg       0.90      0.89      0.90      7489\n",
      "weighted avg       0.90      0.90      0.90      7489\n",
      "\n"
     ]
    }
   ],
   "source": [
    "# Initialize and train the RandomForest model\n",
    "model = RandomForestClassifier(random_state=42)\n",
    "model.fit(X_train_processed, y_train_encoded)\n",
    "\n",
    "# Predict on the test set\n",
    "y_pred = model.predict(X_test_processed)\n",
    "\n",
    "# Evaluate the model\n",
    "print(\"Accuracy Score:\", accuracy_score(y_test_encoded, y_pred))\n",
    "print(\"\\nClassification Report:\\n\", classification_report(y_test_encoded, y_pred, target_names=label_encoder_y.classes_))\n",
    "\n",
    "rf_params = model.get_params()"
   ]
  },
  {
   "cell_type": "markdown",
   "metadata": {
    "id": "BBUMybIkLBEF"
   },
   "source": [
    "- **Xgbosst**"
   ]
  },
  {
   "cell_type": "code",
   "execution_count": 46,
   "metadata": {
    "colab": {
     "base_uri": "https://localhost:8080/"
    },
    "id": "sQBclOlQLBEG",
    "outputId": "8ee97318-e1c4-4cdb-c6ce-f98019d8b81d"
   },
   "outputs": [
    {
     "name": "stdout",
     "output_type": "stream",
     "text": [
      "XGBoost Accuracy Score: 0.9262918947790092\n",
      "\n",
      "XGBoost Classification Report:\n",
      "               precision    recall  f1-score   support\n",
      "\n",
      "     100-150       0.91      0.91      0.91      1948\n",
      "     150-200       0.89      0.92      0.91      2199\n",
      "     200-250       0.96      0.95      0.96      2428\n",
      "      50-100       0.94      0.92      0.93       914\n",
      "\n",
      "    accuracy                           0.93      7489\n",
      "   macro avg       0.93      0.92      0.93      7489\n",
      "weighted avg       0.93      0.93      0.93      7489\n",
      "\n"
     ]
    }
   ],
   "source": [
    "from xgboost import XGBClassifier\n",
    "from sklearn.metrics import accuracy_score, classification_report\n",
    "\n",
    "# Initialize and train the XGBoost model\n",
    "xgb_model = XGBClassifier(random_state=42, use_label_encoder=False, eval_metric='mlogloss')\n",
    "xgb_model.fit(X_train_processed, y_train_encoded)\n",
    "\n",
    "# Predict on the test set\n",
    "y_pred_xgb = xgb_model.predict(X_test_processed)\n",
    "\n",
    "# Evaluate the XGBoost model\n",
    "print(\"XGBoost Accuracy Score:\", accuracy_score(y_test_encoded, y_pred_xgb))\n",
    "print(\"\\nXGBoost Classification Report:\\n\", classification_report(y_test_encoded, y_pred_xgb, target_names=label_encoder_y.classes_))\n",
    "\n",
    "xgb_params = xgb_model.get_params()"
   ]
  },
  {
   "cell_type": "markdown",
   "metadata": {},
   "source": [
    "- **Light GBM**"
   ]
  },
  {
   "cell_type": "code",
   "execution_count": 47,
   "metadata": {
    "colab": {
     "base_uri": "https://localhost:8080/"
    },
    "id": "qzLW0RkELBEG",
    "outputId": "08e278b2-d18e-4dd4-b0ac-2e6138add544"
   },
   "outputs": [
    {
     "name": "stdout",
     "output_type": "stream",
     "text": [
      "[LightGBM] [Warning] Found whitespace in feature_names, replace with underlines\n",
      "[LightGBM] [Info] Auto-choosing row-wise multi-threading, the overhead of testing was 0.000216 seconds.\n",
      "You can set `force_row_wise=true` to remove the overhead.\n",
      "And if memory is not enough, you can set `force_col_wise=true`.\n",
      "[LightGBM] [Info] Total Bins 82\n",
      "[LightGBM] [Info] Number of data points in the train set: 22467, number of used features: 27\n",
      "[LightGBM] [Info] Start training from score -1.346461\n",
      "[LightGBM] [Info] Start training from score -1.225281\n",
      "[LightGBM] [Info] Start training from score -1.126505\n",
      "[LightGBM] [Info] Start training from score -2.103725\n",
      "LightGBM Accuracy Score: 0.9241554279610095\n",
      "\n",
      "LightGBM Classification Report:\n",
      "               precision    recall  f1-score   support\n",
      "\n",
      "     100-150       0.91      0.91      0.91      1948\n",
      "     150-200       0.89      0.92      0.90      2199\n",
      "     200-250       0.96      0.95      0.95      2428\n",
      "      50-100       0.94      0.92      0.93       914\n",
      "\n",
      "    accuracy                           0.92      7489\n",
      "   macro avg       0.93      0.92      0.92      7489\n",
      "weighted avg       0.92      0.92      0.92      7489\n",
      "\n"
     ]
    }
   ],
   "source": [
    "import lightgbm as lgb\n",
    "\n",
    "# Initialize LightGBM model\n",
    "lgb_model = lgb.LGBMClassifier(random_state=42)\n",
    "lgb_model.fit(X_train_processed, y_train_encoded)\n",
    "\n",
    "# Predict on test set\n",
    "y_pred_lgb = lgb_model.predict(X_test_processed)\n",
    "\n",
    "# Evaluate the LightGBM model\n",
    "print(\"LightGBM Accuracy Score:\", accuracy_score(y_test_encoded, y_pred_lgb))\n",
    "print(\"\\nLightGBM Classification Report:\\n\", classification_report(y_test_encoded, y_pred_lgb, target_names=label_encoder_y.classes_))\n",
    "\n",
    "lgb_params = lgb_model.get_params()"
   ]
  },
  {
   "cell_type": "code",
   "execution_count": null,
   "metadata": {},
   "outputs": [],
   "source": []
  },
  {
   "cell_type": "markdown",
   "metadata": {},
   "source": [
    "### ML Flow"
   ]
  },
  {
   "cell_type": "code",
   "execution_count": 49,
   "metadata": {},
   "outputs": [],
   "source": [
    "import mlflow"
   ]
  },
  {
   "cell_type": "code",
   "execution_count": 50,
   "metadata": {},
   "outputs": [],
   "source": [
    "# Step1: Set the name and url\n",
    "mlflow.set_experiment(\"Beverage Price Prediction\")\n",
    "mlflow.set_tracking_uri(uri=\"http://127.0.0.1:5000/\")"
   ]
  },
  {
   "cell_type": "code",
   "execution_count": 51,
   "metadata": {},
   "outputs": [],
   "source": [
    "models = [\n",
    "    \n",
    "          (\n",
    "              \n",
    "           \"Gaussian Naive Bayes\",\n",
    "          #  GaussianNB(priors = None, var_smoothing = 1e-09),\n",
    "           GaussianNB(**gaussian_params),\n",
    "           (X_train_processed, y_train_encoded),\n",
    "           (X_test_processed, y_test_encoded)\n",
    "\n",
    "          ),\n",
    "\n",
    "          (\n",
    "              \n",
    "           \"Logistic Regression\",\n",
    "          #  LogisticRegression(C=1, penalty='l2', solver = 'lbfgs'),\n",
    "           LogisticRegression(**logreg_params),\n",
    "           (X_train_processed, y_train_encoded),\n",
    "           (X_test_processed, y_test_encoded)\n",
    "\n",
    "          ),\n",
    "\n",
    "          (\n",
    "              \n",
    "           \"Support Vector\",\n",
    "          #  SVC(C=1, kernel= 'rbf'),\n",
    "           SVC(**svm_params),\n",
    "           (X_train_processed, y_train_encoded),\n",
    "           (X_test_processed, y_test_encoded)\n",
    "\n",
    "          ),\n",
    "\n",
    "          (\n",
    "              \n",
    "           \"Random Forest\",\n",
    "          #  RandomForestClassifier(bootstrap = True, n_estimators = 100, criterion = 'gini'),\n",
    "           RandomForestClassifier(**rf_params),\n",
    "           (X_train_processed, y_train_encoded),\n",
    "           (X_test_processed, y_test_encoded)\n",
    "\n",
    "          ),\n",
    "\n",
    "          (\n",
    "\n",
    "           \"XGBClassifier\",\n",
    "          #  XGBClassifier(eval_metric = 'mlogloss', use_label_encoder = False),\n",
    "            XGBClassifier(**xgb_params),\n",
    "           (X_train_processed, y_train_encoded),\n",
    "           (X_test_processed, y_test_encoded)   \n",
    "           \n",
    "          ),\n",
    "\n",
    "          (\n",
    "              \n",
    "           \"LGBMClassifier\",\n",
    "          #  lgb.LGBMClassifier(boosting_type = 'gbdt', learning_rate =  0.1, n_estimators= 100),\n",
    "           lgb.LGBMClassifier(**lgb_params),\n",
    "           (X_train_processed, y_train_encoded),\n",
    "           (X_test_processed, y_test_encoded)\n",
    "\n",
    "          ),\n",
    "]"
   ]
  },
  {
   "cell_type": "code",
   "execution_count": 52,
   "metadata": {},
   "outputs": [
    {
     "name": "stdout",
     "output_type": "stream",
     "text": [
      "[LightGBM] [Warning] Found whitespace in feature_names, replace with underlines\n",
      "[LightGBM] [Info] Auto-choosing row-wise multi-threading, the overhead of testing was 0.000206 seconds.\n",
      "You can set `force_row_wise=true` to remove the overhead.\n",
      "And if memory is not enough, you can set `force_col_wise=true`.\n",
      "[LightGBM] [Info] Total Bins 82\n",
      "[LightGBM] [Info] Number of data points in the train set: 22467, number of used features: 27\n",
      "[LightGBM] [Info] Start training from score -1.346461\n",
      "[LightGBM] [Info] Start training from score -1.225281\n",
      "[LightGBM] [Info] Start training from score -1.126505\n",
      "[LightGBM] [Info] Start training from score -2.103725\n"
     ]
    }
   ],
   "source": [
    "reports = []\n",
    "\n",
    "for model_name, model, train_data, test_data in models:\n",
    "  X_train = train_data[0]\n",
    "  y_train = train_data[1]\n",
    "  X_test = test_data[0]\n",
    "  y_test = test_data[1]\n",
    "\n",
    "  model.fit(X_train, y_train)\n",
    "  y_pred = model.predict(X_test)\n",
    "\n",
    "  report = classification_report(y_test, y_pred, target_names=label_encoder_y.classes_, output_dict=True)\n",
    "\n",
    "  reports.append(report)"
   ]
  },
  {
   "cell_type": "code",
   "execution_count": 53,
   "metadata": {},
   "outputs": [
    {
     "data": {
      "text/plain": [
       "[{'100-150': {'precision': 0.4899328859060403,\n",
       "   'recall': 0.2997946611909651,\n",
       "   'f1-score': 0.3719745222929936,\n",
       "   'support': 1948.0},\n",
       "  '150-200': {'precision': 0.5397096498719044,\n",
       "   'recall': 0.2874033651659845,\n",
       "   'f1-score': 0.37507418397626113,\n",
       "   'support': 2199.0},\n",
       "  '200-250': {'precision': 0.6574635922330098,\n",
       "   'recall': 0.892504118616145,\n",
       "   'f1-score': 0.757162823200559,\n",
       "   'support': 2428.0},\n",
       "  '50-100': {'precision': 0.4426229508196721,\n",
       "   'recall': 0.8862144420131292,\n",
       "   'f1-score': 0.5903790087463557,\n",
       "   'support': 914.0},\n",
       "  'accuracy': 0.559887835492055,\n",
       "  'macro avg': {'precision': 0.5324322697076566,\n",
       "   'recall': 0.5914791467465559,\n",
       "   'f1-score': 0.5236476345540424,\n",
       "   'support': 7489.0},\n",
       "  'weighted avg': {'precision': 0.5530898331959156,\n",
       "   'recall': 0.559887835492055,\n",
       "   'f1-score': 0.5244214512906498,\n",
       "   'support': 7489.0}},\n",
       " {'100-150': {'precision': 0.7400686611083864,\n",
       "   'recall': 0.7746406570841889,\n",
       "   'f1-score': 0.7569601203912716,\n",
       "   'support': 1948.0},\n",
       "  '150-200': {'precision': 0.7538253825382538,\n",
       "   'recall': 0.7617098681218736,\n",
       "   'f1-score': 0.7577471160370957,\n",
       "   'support': 2199.0},\n",
       "  '200-250': {'precision': 0.9025406080799667,\n",
       "   'recall': 0.892504118616145,\n",
       "   'f1-score': 0.89749430523918,\n",
       "   'support': 2428.0},\n",
       "  '50-100': {'precision': 0.8137847642079806,\n",
       "   'recall': 0.7363238512035011,\n",
       "   'f1-score': 0.7731188971855255,\n",
       "   'support': 914.0},\n",
       "  'accuracy': 0.8043797569768995,\n",
       "  'macro avg': {'precision': 0.8025548539836469,\n",
       "   'recall': 0.7912946237564271,\n",
       "   'f1-score': 0.7963301097132681,\n",
       "   'support': 7489.0},\n",
       "  'weighted avg': {'precision': 0.8057796286480183,\n",
       "   'recall': 0.8043797569768995,\n",
       "   'f1-score': 0.8047257401303338,\n",
       "   'support': 7489.0}},\n",
       " {'100-150': {'precision': 0.770854271356784,\n",
       "   'recall': 0.7874743326488707,\n",
       "   'f1-score': 0.7790756729304216,\n",
       "   'support': 1948.0},\n",
       "  '150-200': {'precision': 0.775438596491228,\n",
       "   'recall': 0.8040018190086403,\n",
       "   'f1-score': 0.7894619334672918,\n",
       "   'support': 2199.0},\n",
       "  '200-250': {'precision': 0.9151061173533084,\n",
       "   'recall': 0.9056836902800659,\n",
       "   'f1-score': 0.9103705237010971,\n",
       "   'support': 2428.0},\n",
       "  '50-100': {'precision': 0.8394607843137255,\n",
       "   'recall': 0.74945295404814,\n",
       "   'f1-score': 0.791907514450867,\n",
       "   'support': 914.0},\n",
       "  'accuracy': 0.8260114835091468,\n",
       "  'macro avg': {'precision': 0.8252149423787615,\n",
       "   'recall': 0.8116531989964293,\n",
       "   'f1-score': 0.8177039111374194,\n",
       "   'support': 7489.0},\n",
       "  'weighted avg': {'precision': 0.8273412210019767,\n",
       "   'recall': 0.8260114835091468,\n",
       "   'f1-score': 0.8262584193239941,\n",
       "   'support': 7489.0}},\n",
       " {'100-150': {'precision': 0.8872141372141372,\n",
       "   'recall': 0.8762833675564682,\n",
       "   'f1-score': 0.8817148760330579,\n",
       "   'support': 1948.0},\n",
       "  '150-200': {'precision': 0.8444540727902946,\n",
       "   'recall': 0.8863119599818099,\n",
       "   'f1-score': 0.8648768582205458,\n",
       "   'support': 2199.0},\n",
       "  '200-250': {'precision': 0.9432534678436317,\n",
       "   'recall': 0.9242174629324547,\n",
       "   'f1-score': 0.9336384439359268,\n",
       "   'support': 2428.0},\n",
       "  '50-100': {'precision': 0.9259681093394078,\n",
       "   'recall': 0.8894967177242888,\n",
       "   'f1-score': 0.9073660714285714,\n",
       "   'support': 914.0},\n",
       "  'accuracy': 0.8963813593270129,\n",
       "  'macro avg': {'precision': 0.9002224467968678,\n",
       "   'recall': 0.8940773770487553,\n",
       "   'f1-score': 0.8968990624045254,\n",
       "   'support': 7489.0},\n",
       "  'weighted avg': {'precision': 0.8975566720816602,\n",
       "   'recall': 0.8963813593270129,\n",
       "   'f1-score': 0.8967354147284713,\n",
       "   'support': 7489.0}},\n",
       " {'100-150': {'precision': 0.9140946502057613,\n",
       "   'recall': 0.912217659137577,\n",
       "   'f1-score': 0.9131551901336074,\n",
       "   'support': 1948.0},\n",
       "  '150-200': {'precision': 0.8929677134011499,\n",
       "   'recall': 0.9181446111869032,\n",
       "   'f1-score': 0.9053811659192825,\n",
       "   'support': 2199.0},\n",
       "  '200-250': {'precision': 0.9639564124057,\n",
       "   'recall': 0.9472817133443163,\n",
       "   'f1-score': 0.9555463232239302,\n",
       "   'support': 2428.0},\n",
       "  '50-100': {'precision': 0.9365256124721604,\n",
       "   'recall': 0.9201312910284464,\n",
       "   'f1-score': 0.9282560706401766,\n",
       "   'support': 914.0},\n",
       "  'accuracy': 0.9262918947790092,\n",
       "  'macro avg': {'precision': 0.926886097121193,\n",
       "   'recall': 0.9244438186743107,\n",
       "   'f1-score': 0.9255846874792492,\n",
       "   'support': 7489.0},\n",
       "  'weighted avg': {'precision': 0.9267943596595735,\n",
       "   'recall': 0.9262918947790092,\n",
       "   'f1-score': 0.9264590753891832,\n",
       "   'support': 7489.0}},\n",
       " {'100-150': {'precision': 0.9141231246766683,\n",
       "   'recall': 0.9070841889117043,\n",
       "   'f1-score': 0.9105900541097656,\n",
       "   'support': 1948.0},\n",
       "  '150-200': {'precision': 0.8870329670329671,\n",
       "   'recall': 0.9176898590268304,\n",
       "   'f1-score': 0.902101028162718,\n",
       "   'support': 2199.0},\n",
       "  '200-250': {'precision': 0.9619087484303056,\n",
       "   'recall': 0.9464579901153213,\n",
       "   'f1-score': 0.9541208220884367,\n",
       "   'support': 2428.0},\n",
       "  '50-100': {'precision': 0.9394618834080718,\n",
       "   'recall': 0.9168490153172867,\n",
       "   'f1-score': 0.9280177187153932,\n",
       "   'support': 914.0},\n",
       "  'accuracy': 0.9241554279610095,\n",
       "  'macro avg': {'precision': 0.9256316808870032,\n",
       "   'recall': 0.9220202633427856,\n",
       "   'f1-score': 0.9237074057690783,\n",
       "   'support': 7489.0},\n",
       "  'weighted avg': {'precision': 0.9247536311923359,\n",
       "   'recall': 0.9241554279610095,\n",
       "   'f1-score': 0.9243374465579162,\n",
       "   'support': 7489.0}}]"
      ]
     },
     "execution_count": 53,
     "metadata": {},
     "output_type": "execute_result"
    }
   ],
   "source": [
    "reports"
   ]
  },
  {
   "cell_type": "code",
   "execution_count": 54,
   "metadata": {},
   "outputs": [
    {
     "name": "stderr",
     "output_type": "stream",
     "text": [
      "2024/09/18 20:30:24 WARNING mlflow.models.model: Model logged without a signature and input example. Please set `input_example` parameter when logging the model to auto infer the model signature.\n",
      "2024/09/18 20:30:24 INFO mlflow.tracking._tracking_service.client: 🏃 View run Gaussian Naive Bayes at: http://127.0.0.1:5000/#/experiments/545924165737646271/runs/9b41c0246cdf47999a209676dfbb1b02.\n",
      "2024/09/18 20:30:24 INFO mlflow.tracking._tracking_service.client: 🧪 View experiment at: http://127.0.0.1:5000/#/experiments/545924165737646271.\n",
      "2024/09/18 20:30:26 WARNING mlflow.models.model: Model logged without a signature and input example. Please set `input_example` parameter when logging the model to auto infer the model signature.\n",
      "2024/09/18 20:30:26 INFO mlflow.tracking._tracking_service.client: 🏃 View run Logistic Regression at: http://127.0.0.1:5000/#/experiments/545924165737646271/runs/3ee89dd0da634a12b64afada3b800a0f.\n",
      "2024/09/18 20:30:26 INFO mlflow.tracking._tracking_service.client: 🧪 View experiment at: http://127.0.0.1:5000/#/experiments/545924165737646271.\n",
      "2024/09/18 20:30:28 WARNING mlflow.models.model: Model logged without a signature and input example. Please set `input_example` parameter when logging the model to auto infer the model signature.\n",
      "2024/09/18 20:30:28 INFO mlflow.tracking._tracking_service.client: 🏃 View run Support Vector at: http://127.0.0.1:5000/#/experiments/545924165737646271/runs/9e02cc03d2444c6fbc6512f8842029fe.\n",
      "2024/09/18 20:30:28 INFO mlflow.tracking._tracking_service.client: 🧪 View experiment at: http://127.0.0.1:5000/#/experiments/545924165737646271.\n",
      "2024/09/18 20:30:30 WARNING mlflow.models.model: Model logged without a signature and input example. Please set `input_example` parameter when logging the model to auto infer the model signature.\n",
      "2024/09/18 20:30:30 INFO mlflow.tracking._tracking_service.client: 🏃 View run Random Forest at: http://127.0.0.1:5000/#/experiments/545924165737646271/runs/679817736929440d972abfbd5e0ea031.\n",
      "2024/09/18 20:30:30 INFO mlflow.tracking._tracking_service.client: 🧪 View experiment at: http://127.0.0.1:5000/#/experiments/545924165737646271.\n",
      "2024/09/18 20:30:33 WARNING mlflow.models.model: Model logged without a signature and input example. Please set `input_example` parameter when logging the model to auto infer the model signature.\n",
      "2024/09/18 20:30:33 INFO mlflow.tracking._tracking_service.client: 🏃 View run XGBClassifier at: http://127.0.0.1:5000/#/experiments/545924165737646271/runs/48b29a2df7be4393aae68725dafb281b.\n",
      "2024/09/18 20:30:33 INFO mlflow.tracking._tracking_service.client: 🧪 View experiment at: http://127.0.0.1:5000/#/experiments/545924165737646271.\n",
      "2024/09/18 20:30:35 WARNING mlflow.models.model: Model logged without a signature and input example. Please set `input_example` parameter when logging the model to auto infer the model signature.\n",
      "2024/09/18 20:30:35 INFO mlflow.tracking._tracking_service.client: 🏃 View run LGBMClassifier at: http://127.0.0.1:5000/#/experiments/545924165737646271/runs/9fc65bafcae8446b97eeb9c522231825.\n",
      "2024/09/18 20:30:35 INFO mlflow.tracking._tracking_service.client: 🧪 View experiment at: http://127.0.0.1:5000/#/experiments/545924165737646271.\n"
     ]
    }
   ],
   "source": [
    "for i, element in enumerate(models):\n",
    "  model_name = element[0]\n",
    "  model = element[1]\n",
    "  report = reports[i]\n",
    "\n",
    "  with mlflow.start_run(run_name=model_name):\n",
    "    mlflow.log_param(\"model_name\", model_name)\n",
    "    mlflow.log_metric(\"accuracy\", report['accuracy'])\n",
    "    mlflow.log_metric(\"recall_class_50_100\", report['50-100']['recall'])\n",
    "    mlflow.log_metric(\"recall_class_100_150\", report['100-150']['recall'])\n",
    "    mlflow.log_metric(\"recall_class_150_200\", report['150-200']['recall'])\n",
    "    mlflow.log_metric(\"recall_class_200_250\", report['200-250']['recall'])\n",
    "    mlflow.log_metric(\"macro_avg_precision\", report['macro avg']['precision'])\n",
    "    mlflow.log_metric(\"macro_avg_recall\", report['macro avg']['recall'])\n",
    "\n",
    "    if \"XGB\" in model_name:\n",
    "      mlflow.xgboost.log_model(model, \"model\")\n",
    "    else:\n",
    "      mlflow.sklearn.log_model(model, \"model\")"
   ]
  },
  {
   "cell_type": "code",
   "execution_count": null,
   "metadata": {},
   "outputs": [],
   "source": []
  },
  {
   "cell_type": "code",
   "execution_count": null,
   "metadata": {},
   "outputs": [],
   "source": []
  },
  {
   "cell_type": "code",
   "execution_count": null,
   "metadata": {},
   "outputs": [],
   "source": []
  }
 ],
 "metadata": {
  "colab": {
   "provenance": []
  },
  "kernelspec": {
   "display_name": "Python 3 (ipykernel)",
   "language": "python",
   "name": "python3"
  },
  "language_info": {
   "codemirror_mode": {
    "name": "ipython",
    "version": 3
   },
   "file_extension": ".py",
   "mimetype": "text/x-python",
   "name": "python",
   "nbconvert_exporter": "python",
   "pygments_lexer": "ipython3",
   "version": "3.10.11"
  }
 },
 "nbformat": 4,
 "nbformat_minor": 4
}
